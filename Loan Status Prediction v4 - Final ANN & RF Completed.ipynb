{
 "cells": [
  {
   "cell_type": "markdown",
   "id": "01acd41b",
   "metadata": {},
   "source": [
    "# Importing Libraries"
   ]
  },
  {
   "cell_type": "code",
   "execution_count": 3,
   "id": "bc7bad7d",
   "metadata": {},
   "outputs": [],
   "source": [
    "import numpy as np\n",
    "import pandas as pd\n",
    "import seaborn as sns\n",
    "import matplotlib.pyplot as plt\n",
    "import tensorflow as tf\n",
    "\n",
    "from sklearn import metrics\n",
    "from sklearn.model_selection import train_test_split\n",
    "from sklearn.metrics import accuracy_score\n",
    "from sklearn.metrics import classification_report \n",
    "from sklearn.preprocessing import MinMaxScaler\n",
    "from sklearn.preprocessing import StandardScaler\n",
    "from numpy import loadtxt\n",
    "from keras.models import Sequential\n",
    "from keras.layers import Dense \n",
    "from matplotlib import pyplot as plt\n",
    "from tensorflow import keras\n",
    "from sklearn.metrics import confusion_matrix , classification_report\n",
    "\n",
    "%matplotlib inline"
   ]
  },
  {
   "cell_type": "markdown",
   "id": "e5781938",
   "metadata": {},
   "source": [
    "# Uploading the Main Dataset for Load Status Prediction"
   ]
  },
  {
   "cell_type": "code",
   "execution_count": 4,
   "id": "55cc5496",
   "metadata": {},
   "outputs": [],
   "source": [
    "loan_prime_df1 = pd.read_csv('E:\\LTU\\Data Science\\DS Project\\Loan Defraud Prediction\\Data Set\\credit_train.csv')"
   ]
  },
  {
   "cell_type": "markdown",
   "id": "cf80bafc",
   "metadata": {},
   "source": [
    "# Exploring the Data Set"
   ]
  },
  {
   "cell_type": "markdown",
   "id": "09dc02e5",
   "metadata": {},
   "source": [
    "## Type of Data Set"
   ]
  },
  {
   "cell_type": "code",
   "execution_count": 5,
   "id": "2e62b71d",
   "metadata": {},
   "outputs": [
    {
     "data": {
      "text/plain": [
       "pandas.core.frame.DataFrame"
      ]
     },
     "execution_count": 5,
     "metadata": {},
     "output_type": "execute_result"
    }
   ],
   "source": [
    "type(loan_prime_df1)"
   ]
  },
  {
   "cell_type": "markdown",
   "id": "3b8215fe",
   "metadata": {},
   "source": [
    "## Describing the Data Set"
   ]
  },
  {
   "cell_type": "code",
   "execution_count": 6,
   "id": "a494cd34",
   "metadata": {},
   "outputs": [
    {
     "data": {
      "text/plain": [
       "<bound method NDFrame.describe of                                      Loan ID  \\\n",
       "0       14dd8831-6af5-400b-83ec-68e61888a048   \n",
       "1       4771cc26-131a-45db-b5aa-537ea4ba5342   \n",
       "2       4eed4e6a-aa2f-4c91-8651-ce984ee8fb26   \n",
       "3       77598f7b-32e7-4e3b-a6e5-06ba0d98fe8a   \n",
       "4       d4062e70-befa-4995-8643-a0de73938182   \n",
       "...                                      ...   \n",
       "100509                                   NaN   \n",
       "100510                                   NaN   \n",
       "100511                                   NaN   \n",
       "100512                                   NaN   \n",
       "100513                                   NaN   \n",
       "\n",
       "                                 Customer ID Loan Status  Current Loan Amount  \\\n",
       "0       981165ec-3274-42f5-a3b4-d104041a9ca9  Fully Paid             445412.0   \n",
       "1       2de017a3-2e01-49cb-a581-08169e83be29  Fully Paid             262328.0   \n",
       "2       5efb2b2b-bf11-4dfd-a572-3761a2694725  Fully Paid           99999999.0   \n",
       "3       e777faab-98ae-45af-9a86-7ce5b33b1011  Fully Paid             347666.0   \n",
       "4       81536ad9-5ccf-4eb8-befb-47a4d608658e  Fully Paid             176220.0   \n",
       "...                                      ...         ...                  ...   \n",
       "100509                                   NaN         NaN                  NaN   \n",
       "100510                                   NaN         NaN                  NaN   \n",
       "100511                                   NaN         NaN                  NaN   \n",
       "100512                                   NaN         NaN                  NaN   \n",
       "100513                                   NaN         NaN                  NaN   \n",
       "\n",
       "              Term  Credit Score  Annual Income Years in current job  \\\n",
       "0       Short Term         709.0      1167493.0              8 years   \n",
       "1       Short Term           NaN            NaN            10+ years   \n",
       "2       Short Term         741.0      2231892.0              8 years   \n",
       "3        Long Term         721.0       806949.0              3 years   \n",
       "4       Short Term           NaN            NaN              5 years   \n",
       "...            ...           ...            ...                  ...   \n",
       "100509         NaN           NaN            NaN                  NaN   \n",
       "100510         NaN           NaN            NaN                  NaN   \n",
       "100511         NaN           NaN            NaN                  NaN   \n",
       "100512         NaN           NaN            NaN                  NaN   \n",
       "100513         NaN           NaN            NaN                  NaN   \n",
       "\n",
       "       Home Ownership             Purpose  Monthly Debt  \\\n",
       "0       Home Mortgage   Home Improvements       5214.74   \n",
       "1       Home Mortgage  Debt Consolidation      33295.98   \n",
       "2            Own Home  Debt Consolidation      29200.53   \n",
       "3            Own Home  Debt Consolidation       8741.90   \n",
       "4                Rent  Debt Consolidation      20639.70   \n",
       "...               ...                 ...           ...   \n",
       "100509            NaN                 NaN           NaN   \n",
       "100510            NaN                 NaN           NaN   \n",
       "100511            NaN                 NaN           NaN   \n",
       "100512            NaN                 NaN           NaN   \n",
       "100513            NaN                 NaN           NaN   \n",
       "\n",
       "        Years of Credit History  Months since last delinquent  \\\n",
       "0                          17.2                           NaN   \n",
       "1                          21.1                           8.0   \n",
       "2                          14.9                          29.0   \n",
       "3                          12.0                           NaN   \n",
       "4                           6.1                           NaN   \n",
       "...                         ...                           ...   \n",
       "100509                      NaN                           NaN   \n",
       "100510                      NaN                           NaN   \n",
       "100511                      NaN                           NaN   \n",
       "100512                      NaN                           NaN   \n",
       "100513                      NaN                           NaN   \n",
       "\n",
       "        Number of Open Accounts  Number of Credit Problems  \\\n",
       "0                           6.0                        1.0   \n",
       "1                          35.0                        0.0   \n",
       "2                          18.0                        1.0   \n",
       "3                           9.0                        0.0   \n",
       "4                          15.0                        0.0   \n",
       "...                         ...                        ...   \n",
       "100509                      NaN                        NaN   \n",
       "100510                      NaN                        NaN   \n",
       "100511                      NaN                        NaN   \n",
       "100512                      NaN                        NaN   \n",
       "100513                      NaN                        NaN   \n",
       "\n",
       "        Current Credit Balance  Maximum Open Credit  Bankruptcies  Tax Liens  \n",
       "0                     228190.0             416746.0           1.0        0.0  \n",
       "1                     229976.0             850784.0           0.0        0.0  \n",
       "2                     297996.0             750090.0           0.0        0.0  \n",
       "3                     256329.0             386958.0           0.0        0.0  \n",
       "4                     253460.0             427174.0           0.0        0.0  \n",
       "...                        ...                  ...           ...        ...  \n",
       "100509                     NaN                  NaN           NaN        NaN  \n",
       "100510                     NaN                  NaN           NaN        NaN  \n",
       "100511                     NaN                  NaN           NaN        NaN  \n",
       "100512                     NaN                  NaN           NaN        NaN  \n",
       "100513                     NaN                  NaN           NaN        NaN  \n",
       "\n",
       "[100514 rows x 19 columns]>"
      ]
     },
     "execution_count": 6,
     "metadata": {},
     "output_type": "execute_result"
    }
   ],
   "source": [
    "loan_prime_df1.describe"
   ]
  },
  {
   "cell_type": "markdown",
   "id": "a522bea7",
   "metadata": {},
   "source": [
    "## First Ten columns of Data Set"
   ]
  },
  {
   "cell_type": "code",
   "execution_count": 7,
   "id": "8950646a",
   "metadata": {},
   "outputs": [
    {
     "data": {
      "text/html": [
       "<div>\n",
       "<style scoped>\n",
       "    .dataframe tbody tr th:only-of-type {\n",
       "        vertical-align: middle;\n",
       "    }\n",
       "\n",
       "    .dataframe tbody tr th {\n",
       "        vertical-align: top;\n",
       "    }\n",
       "\n",
       "    .dataframe thead th {\n",
       "        text-align: right;\n",
       "    }\n",
       "</style>\n",
       "<table border=\"1\" class=\"dataframe\">\n",
       "  <thead>\n",
       "    <tr style=\"text-align: right;\">\n",
       "      <th></th>\n",
       "      <th>Loan ID</th>\n",
       "      <th>Customer ID</th>\n",
       "      <th>Loan Status</th>\n",
       "      <th>Current Loan Amount</th>\n",
       "      <th>Term</th>\n",
       "      <th>Credit Score</th>\n",
       "      <th>Annual Income</th>\n",
       "      <th>Years in current job</th>\n",
       "      <th>Home Ownership</th>\n",
       "      <th>Purpose</th>\n",
       "      <th>Monthly Debt</th>\n",
       "      <th>Years of Credit History</th>\n",
       "      <th>Months since last delinquent</th>\n",
       "      <th>Number of Open Accounts</th>\n",
       "      <th>Number of Credit Problems</th>\n",
       "      <th>Current Credit Balance</th>\n",
       "      <th>Maximum Open Credit</th>\n",
       "      <th>Bankruptcies</th>\n",
       "      <th>Tax Liens</th>\n",
       "    </tr>\n",
       "  </thead>\n",
       "  <tbody>\n",
       "    <tr>\n",
       "      <th>0</th>\n",
       "      <td>14dd8831-6af5-400b-83ec-68e61888a048</td>\n",
       "      <td>981165ec-3274-42f5-a3b4-d104041a9ca9</td>\n",
       "      <td>Fully Paid</td>\n",
       "      <td>445412.0</td>\n",
       "      <td>Short Term</td>\n",
       "      <td>709.0</td>\n",
       "      <td>1167493.0</td>\n",
       "      <td>8 years</td>\n",
       "      <td>Home Mortgage</td>\n",
       "      <td>Home Improvements</td>\n",
       "      <td>5214.74</td>\n",
       "      <td>17.2</td>\n",
       "      <td>NaN</td>\n",
       "      <td>6.0</td>\n",
       "      <td>1.0</td>\n",
       "      <td>228190.0</td>\n",
       "      <td>416746.0</td>\n",
       "      <td>1.0</td>\n",
       "      <td>0.0</td>\n",
       "    </tr>\n",
       "    <tr>\n",
       "      <th>1</th>\n",
       "      <td>4771cc26-131a-45db-b5aa-537ea4ba5342</td>\n",
       "      <td>2de017a3-2e01-49cb-a581-08169e83be29</td>\n",
       "      <td>Fully Paid</td>\n",
       "      <td>262328.0</td>\n",
       "      <td>Short Term</td>\n",
       "      <td>NaN</td>\n",
       "      <td>NaN</td>\n",
       "      <td>10+ years</td>\n",
       "      <td>Home Mortgage</td>\n",
       "      <td>Debt Consolidation</td>\n",
       "      <td>33295.98</td>\n",
       "      <td>21.1</td>\n",
       "      <td>8.0</td>\n",
       "      <td>35.0</td>\n",
       "      <td>0.0</td>\n",
       "      <td>229976.0</td>\n",
       "      <td>850784.0</td>\n",
       "      <td>0.0</td>\n",
       "      <td>0.0</td>\n",
       "    </tr>\n",
       "    <tr>\n",
       "      <th>2</th>\n",
       "      <td>4eed4e6a-aa2f-4c91-8651-ce984ee8fb26</td>\n",
       "      <td>5efb2b2b-bf11-4dfd-a572-3761a2694725</td>\n",
       "      <td>Fully Paid</td>\n",
       "      <td>99999999.0</td>\n",
       "      <td>Short Term</td>\n",
       "      <td>741.0</td>\n",
       "      <td>2231892.0</td>\n",
       "      <td>8 years</td>\n",
       "      <td>Own Home</td>\n",
       "      <td>Debt Consolidation</td>\n",
       "      <td>29200.53</td>\n",
       "      <td>14.9</td>\n",
       "      <td>29.0</td>\n",
       "      <td>18.0</td>\n",
       "      <td>1.0</td>\n",
       "      <td>297996.0</td>\n",
       "      <td>750090.0</td>\n",
       "      <td>0.0</td>\n",
       "      <td>0.0</td>\n",
       "    </tr>\n",
       "    <tr>\n",
       "      <th>3</th>\n",
       "      <td>77598f7b-32e7-4e3b-a6e5-06ba0d98fe8a</td>\n",
       "      <td>e777faab-98ae-45af-9a86-7ce5b33b1011</td>\n",
       "      <td>Fully Paid</td>\n",
       "      <td>347666.0</td>\n",
       "      <td>Long Term</td>\n",
       "      <td>721.0</td>\n",
       "      <td>806949.0</td>\n",
       "      <td>3 years</td>\n",
       "      <td>Own Home</td>\n",
       "      <td>Debt Consolidation</td>\n",
       "      <td>8741.90</td>\n",
       "      <td>12.0</td>\n",
       "      <td>NaN</td>\n",
       "      <td>9.0</td>\n",
       "      <td>0.0</td>\n",
       "      <td>256329.0</td>\n",
       "      <td>386958.0</td>\n",
       "      <td>0.0</td>\n",
       "      <td>0.0</td>\n",
       "    </tr>\n",
       "    <tr>\n",
       "      <th>4</th>\n",
       "      <td>d4062e70-befa-4995-8643-a0de73938182</td>\n",
       "      <td>81536ad9-5ccf-4eb8-befb-47a4d608658e</td>\n",
       "      <td>Fully Paid</td>\n",
       "      <td>176220.0</td>\n",
       "      <td>Short Term</td>\n",
       "      <td>NaN</td>\n",
       "      <td>NaN</td>\n",
       "      <td>5 years</td>\n",
       "      <td>Rent</td>\n",
       "      <td>Debt Consolidation</td>\n",
       "      <td>20639.70</td>\n",
       "      <td>6.1</td>\n",
       "      <td>NaN</td>\n",
       "      <td>15.0</td>\n",
       "      <td>0.0</td>\n",
       "      <td>253460.0</td>\n",
       "      <td>427174.0</td>\n",
       "      <td>0.0</td>\n",
       "      <td>0.0</td>\n",
       "    </tr>\n",
       "    <tr>\n",
       "      <th>5</th>\n",
       "      <td>89d8cb0c-e5c2-4f54-b056-48a645c543dd</td>\n",
       "      <td>4ffe99d3-7f2a-44db-afc1-40943f1f9750</td>\n",
       "      <td>Charged Off</td>\n",
       "      <td>206602.0</td>\n",
       "      <td>Short Term</td>\n",
       "      <td>7290.0</td>\n",
       "      <td>896857.0</td>\n",
       "      <td>10+ years</td>\n",
       "      <td>Home Mortgage</td>\n",
       "      <td>Debt Consolidation</td>\n",
       "      <td>16367.74</td>\n",
       "      <td>17.3</td>\n",
       "      <td>NaN</td>\n",
       "      <td>6.0</td>\n",
       "      <td>0.0</td>\n",
       "      <td>215308.0</td>\n",
       "      <td>272448.0</td>\n",
       "      <td>0.0</td>\n",
       "      <td>0.0</td>\n",
       "    </tr>\n",
       "    <tr>\n",
       "      <th>6</th>\n",
       "      <td>273581de-85d8-4332-81a5-19b04ce68666</td>\n",
       "      <td>90a75dde-34d5-419c-90dc-1e58b04b3e35</td>\n",
       "      <td>Fully Paid</td>\n",
       "      <td>217646.0</td>\n",
       "      <td>Short Term</td>\n",
       "      <td>730.0</td>\n",
       "      <td>1184194.0</td>\n",
       "      <td>&lt; 1 year</td>\n",
       "      <td>Home Mortgage</td>\n",
       "      <td>Debt Consolidation</td>\n",
       "      <td>10855.08</td>\n",
       "      <td>19.6</td>\n",
       "      <td>10.0</td>\n",
       "      <td>13.0</td>\n",
       "      <td>1.0</td>\n",
       "      <td>122170.0</td>\n",
       "      <td>272052.0</td>\n",
       "      <td>1.0</td>\n",
       "      <td>0.0</td>\n",
       "    </tr>\n",
       "    <tr>\n",
       "      <th>7</th>\n",
       "      <td>db0dc6e1-77ee-4826-acca-772f9039e1c7</td>\n",
       "      <td>018973c9-e316-4956-b363-67e134fb0931</td>\n",
       "      <td>Charged Off</td>\n",
       "      <td>648714.0</td>\n",
       "      <td>Long Term</td>\n",
       "      <td>NaN</td>\n",
       "      <td>NaN</td>\n",
       "      <td>&lt; 1 year</td>\n",
       "      <td>Home Mortgage</td>\n",
       "      <td>Buy House</td>\n",
       "      <td>14806.13</td>\n",
       "      <td>8.2</td>\n",
       "      <td>8.0</td>\n",
       "      <td>15.0</td>\n",
       "      <td>0.0</td>\n",
       "      <td>193306.0</td>\n",
       "      <td>864204.0</td>\n",
       "      <td>0.0</td>\n",
       "      <td>0.0</td>\n",
       "    </tr>\n",
       "    <tr>\n",
       "      <th>8</th>\n",
       "      <td>8af915d9-9e91-44a0-b5a2-564a45c12089</td>\n",
       "      <td>af534dea-d27e-4fd6-9de8-efaa52a78ec0</td>\n",
       "      <td>Fully Paid</td>\n",
       "      <td>548746.0</td>\n",
       "      <td>Short Term</td>\n",
       "      <td>678.0</td>\n",
       "      <td>2559110.0</td>\n",
       "      <td>2 years</td>\n",
       "      <td>Rent</td>\n",
       "      <td>Debt Consolidation</td>\n",
       "      <td>18660.28</td>\n",
       "      <td>22.6</td>\n",
       "      <td>33.0</td>\n",
       "      <td>4.0</td>\n",
       "      <td>0.0</td>\n",
       "      <td>437171.0</td>\n",
       "      <td>555038.0</td>\n",
       "      <td>0.0</td>\n",
       "      <td>0.0</td>\n",
       "    </tr>\n",
       "    <tr>\n",
       "      <th>9</th>\n",
       "      <td>0b1c4e3d-bd97-45ce-9622-22732fcdc9a0</td>\n",
       "      <td>235c4a43-dadf-483d-aa44-9d6d77ae4583</td>\n",
       "      <td>Fully Paid</td>\n",
       "      <td>215952.0</td>\n",
       "      <td>Short Term</td>\n",
       "      <td>739.0</td>\n",
       "      <td>1454735.0</td>\n",
       "      <td>&lt; 1 year</td>\n",
       "      <td>Rent</td>\n",
       "      <td>Debt Consolidation</td>\n",
       "      <td>39277.75</td>\n",
       "      <td>13.9</td>\n",
       "      <td>NaN</td>\n",
       "      <td>20.0</td>\n",
       "      <td>0.0</td>\n",
       "      <td>669560.0</td>\n",
       "      <td>1021460.0</td>\n",
       "      <td>0.0</td>\n",
       "      <td>0.0</td>\n",
       "    </tr>\n",
       "  </tbody>\n",
       "</table>\n",
       "</div>"
      ],
      "text/plain": [
       "                                Loan ID                           Customer ID  \\\n",
       "0  14dd8831-6af5-400b-83ec-68e61888a048  981165ec-3274-42f5-a3b4-d104041a9ca9   \n",
       "1  4771cc26-131a-45db-b5aa-537ea4ba5342  2de017a3-2e01-49cb-a581-08169e83be29   \n",
       "2  4eed4e6a-aa2f-4c91-8651-ce984ee8fb26  5efb2b2b-bf11-4dfd-a572-3761a2694725   \n",
       "3  77598f7b-32e7-4e3b-a6e5-06ba0d98fe8a  e777faab-98ae-45af-9a86-7ce5b33b1011   \n",
       "4  d4062e70-befa-4995-8643-a0de73938182  81536ad9-5ccf-4eb8-befb-47a4d608658e   \n",
       "5  89d8cb0c-e5c2-4f54-b056-48a645c543dd  4ffe99d3-7f2a-44db-afc1-40943f1f9750   \n",
       "6  273581de-85d8-4332-81a5-19b04ce68666  90a75dde-34d5-419c-90dc-1e58b04b3e35   \n",
       "7  db0dc6e1-77ee-4826-acca-772f9039e1c7  018973c9-e316-4956-b363-67e134fb0931   \n",
       "8  8af915d9-9e91-44a0-b5a2-564a45c12089  af534dea-d27e-4fd6-9de8-efaa52a78ec0   \n",
       "9  0b1c4e3d-bd97-45ce-9622-22732fcdc9a0  235c4a43-dadf-483d-aa44-9d6d77ae4583   \n",
       "\n",
       "   Loan Status  Current Loan Amount        Term  Credit Score  Annual Income  \\\n",
       "0   Fully Paid             445412.0  Short Term         709.0      1167493.0   \n",
       "1   Fully Paid             262328.0  Short Term           NaN            NaN   \n",
       "2   Fully Paid           99999999.0  Short Term         741.0      2231892.0   \n",
       "3   Fully Paid             347666.0   Long Term         721.0       806949.0   \n",
       "4   Fully Paid             176220.0  Short Term           NaN            NaN   \n",
       "5  Charged Off             206602.0  Short Term        7290.0       896857.0   \n",
       "6   Fully Paid             217646.0  Short Term         730.0      1184194.0   \n",
       "7  Charged Off             648714.0   Long Term           NaN            NaN   \n",
       "8   Fully Paid             548746.0  Short Term         678.0      2559110.0   \n",
       "9   Fully Paid             215952.0  Short Term         739.0      1454735.0   \n",
       "\n",
       "  Years in current job Home Ownership             Purpose  Monthly Debt  \\\n",
       "0              8 years  Home Mortgage   Home Improvements       5214.74   \n",
       "1            10+ years  Home Mortgage  Debt Consolidation      33295.98   \n",
       "2              8 years       Own Home  Debt Consolidation      29200.53   \n",
       "3              3 years       Own Home  Debt Consolidation       8741.90   \n",
       "4              5 years           Rent  Debt Consolidation      20639.70   \n",
       "5            10+ years  Home Mortgage  Debt Consolidation      16367.74   \n",
       "6             < 1 year  Home Mortgage  Debt Consolidation      10855.08   \n",
       "7             < 1 year  Home Mortgage           Buy House      14806.13   \n",
       "8              2 years           Rent  Debt Consolidation      18660.28   \n",
       "9             < 1 year           Rent  Debt Consolidation      39277.75   \n",
       "\n",
       "   Years of Credit History  Months since last delinquent  \\\n",
       "0                     17.2                           NaN   \n",
       "1                     21.1                           8.0   \n",
       "2                     14.9                          29.0   \n",
       "3                     12.0                           NaN   \n",
       "4                      6.1                           NaN   \n",
       "5                     17.3                           NaN   \n",
       "6                     19.6                          10.0   \n",
       "7                      8.2                           8.0   \n",
       "8                     22.6                          33.0   \n",
       "9                     13.9                           NaN   \n",
       "\n",
       "   Number of Open Accounts  Number of Credit Problems  Current Credit Balance  \\\n",
       "0                      6.0                        1.0                228190.0   \n",
       "1                     35.0                        0.0                229976.0   \n",
       "2                     18.0                        1.0                297996.0   \n",
       "3                      9.0                        0.0                256329.0   \n",
       "4                     15.0                        0.0                253460.0   \n",
       "5                      6.0                        0.0                215308.0   \n",
       "6                     13.0                        1.0                122170.0   \n",
       "7                     15.0                        0.0                193306.0   \n",
       "8                      4.0                        0.0                437171.0   \n",
       "9                     20.0                        0.0                669560.0   \n",
       "\n",
       "   Maximum Open Credit  Bankruptcies  Tax Liens  \n",
       "0             416746.0           1.0        0.0  \n",
       "1             850784.0           0.0        0.0  \n",
       "2             750090.0           0.0        0.0  \n",
       "3             386958.0           0.0        0.0  \n",
       "4             427174.0           0.0        0.0  \n",
       "5             272448.0           0.0        0.0  \n",
       "6             272052.0           1.0        0.0  \n",
       "7             864204.0           0.0        0.0  \n",
       "8             555038.0           0.0        0.0  \n",
       "9            1021460.0           0.0        0.0  "
      ]
     },
     "execution_count": 7,
     "metadata": {},
     "output_type": "execute_result"
    }
   ],
   "source": [
    "loan_prime_df1.head(10)"
   ]
  },
  {
   "cell_type": "markdown",
   "id": "b90f2be7",
   "metadata": {},
   "source": [
    "## Shape of the Data Set"
   ]
  },
  {
   "cell_type": "code",
   "execution_count": 8,
   "id": "82e563f6",
   "metadata": {},
   "outputs": [
    {
     "data": {
      "text/plain": [
       "(100514, 19)"
      ]
     },
     "execution_count": 8,
     "metadata": {},
     "output_type": "execute_result"
    }
   ],
   "source": [
    "loan_prime_df1.shape"
   ]
  },
  {
   "cell_type": "markdown",
   "id": "bef8ad34",
   "metadata": {},
   "source": [
    "## Info of the Data Set"
   ]
  },
  {
   "cell_type": "code",
   "execution_count": 9,
   "id": "cffa04af",
   "metadata": {},
   "outputs": [
    {
     "name": "stdout",
     "output_type": "stream",
     "text": [
      "<class 'pandas.core.frame.DataFrame'>\n",
      "RangeIndex: 100514 entries, 0 to 100513\n",
      "Data columns (total 19 columns):\n",
      " #   Column                        Non-Null Count   Dtype  \n",
      "---  ------                        --------------   -----  \n",
      " 0   Loan ID                       100000 non-null  object \n",
      " 1   Customer ID                   100000 non-null  object \n",
      " 2   Loan Status                   100000 non-null  object \n",
      " 3   Current Loan Amount           100000 non-null  float64\n",
      " 4   Term                          100000 non-null  object \n",
      " 5   Credit Score                  80846 non-null   float64\n",
      " 6   Annual Income                 80846 non-null   float64\n",
      " 7   Years in current job          95778 non-null   object \n",
      " 8   Home Ownership                100000 non-null  object \n",
      " 9   Purpose                       100000 non-null  object \n",
      " 10  Monthly Debt                  100000 non-null  float64\n",
      " 11  Years of Credit History       100000 non-null  float64\n",
      " 12  Months since last delinquent  46859 non-null   float64\n",
      " 13  Number of Open Accounts       100000 non-null  float64\n",
      " 14  Number of Credit Problems     100000 non-null  float64\n",
      " 15  Current Credit Balance        100000 non-null  float64\n",
      " 16  Maximum Open Credit           99998 non-null   float64\n",
      " 17  Bankruptcies                  99796 non-null   float64\n",
      " 18  Tax Liens                     99990 non-null   float64\n",
      "dtypes: float64(12), object(7)\n",
      "memory usage: 14.6+ MB\n"
     ]
    }
   ],
   "source": [
    "loan_prime_df1.info()"
   ]
  },
  {
   "cell_type": "markdown",
   "id": "21205022",
   "metadata": {},
   "source": [
    "### Value counts of the 'Loan Status'"
   ]
  },
  {
   "cell_type": "code",
   "execution_count": 10,
   "id": "b60bfc5b",
   "metadata": {},
   "outputs": [
    {
     "data": {
      "text/plain": [
       "Fully Paid     77361\n",
       "Charged Off    22639\n",
       "Name: Loan Status, dtype: int64"
      ]
     },
     "execution_count": 10,
     "metadata": {},
     "output_type": "execute_result"
    }
   ],
   "source": [
    "loan_prime_df1['Loan Status'].value_counts()"
   ]
  },
  {
   "cell_type": "markdown",
   "id": "ad29e5ae",
   "metadata": {},
   "source": [
    "### Value counts of the 'Term'"
   ]
  },
  {
   "cell_type": "code",
   "execution_count": 11,
   "id": "f5dd3a4e",
   "metadata": {},
   "outputs": [
    {
     "data": {
      "text/plain": [
       "Short Term    72208\n",
       "Long Term     27792\n",
       "Name: Term, dtype: int64"
      ]
     },
     "execution_count": 11,
     "metadata": {},
     "output_type": "execute_result"
    }
   ],
   "source": [
    "loan_prime_df1['Term'].value_counts()"
   ]
  },
  {
   "cell_type": "markdown",
   "id": "99bd2b1d",
   "metadata": {},
   "source": [
    "### Value counts of the 'Years in current job'"
   ]
  },
  {
   "cell_type": "code",
   "execution_count": 12,
   "id": "1277a07c",
   "metadata": {},
   "outputs": [
    {
     "data": {
      "text/plain": [
       "10+ years    31121\n",
       "2 years       9134\n",
       "3 years       8169\n",
       "< 1 year      8164\n",
       "5 years       6787\n",
       "1 year        6460\n",
       "4 years       6143\n",
       "6 years       5686\n",
       "7 years       5577\n",
       "8 years       4582\n",
       "9 years       3955\n",
       "Name: Years in current job, dtype: int64"
      ]
     },
     "execution_count": 12,
     "metadata": {},
     "output_type": "execute_result"
    }
   ],
   "source": [
    "loan_prime_df1['Years in current job'].value_counts()"
   ]
  },
  {
   "cell_type": "markdown",
   "id": "4a7223ec",
   "metadata": {},
   "source": [
    "### Value counts of the \"Home Ownership\""
   ]
  },
  {
   "cell_type": "code",
   "execution_count": 13,
   "id": "ef01e510",
   "metadata": {},
   "outputs": [
    {
     "data": {
      "text/plain": [
       "Home Mortgage    48410\n",
       "Rent             42194\n",
       "Own Home          9182\n",
       "HaveMortgage       214\n",
       "Name: Home Ownership, dtype: int64"
      ]
     },
     "execution_count": 13,
     "metadata": {},
     "output_type": "execute_result"
    }
   ],
   "source": [
    "loan_prime_df1['Home Ownership'].value_counts()"
   ]
  },
  {
   "cell_type": "markdown",
   "id": "3f9412d7",
   "metadata": {},
   "source": [
    "### Value counts of the 'Purpose'"
   ]
  },
  {
   "cell_type": "code",
   "execution_count": 14,
   "id": "e70f1533",
   "metadata": {},
   "outputs": [
    {
     "data": {
      "text/plain": [
       "Debt Consolidation      78552\n",
       "other                    6037\n",
       "Home Improvements        5839\n",
       "Other                    3250\n",
       "Business Loan            1569\n",
       "Buy a Car                1265\n",
       "Medical Bills            1127\n",
       "Buy House                 678\n",
       "Take a Trip               573\n",
       "major_purchase            352\n",
       "small_business            283\n",
       "moving                    150\n",
       "wedding                   115\n",
       "vacation                  101\n",
       "Educational Expenses       99\n",
       "renewable_energy           10\n",
       "Name: Purpose, dtype: int64"
      ]
     },
     "execution_count": 14,
     "metadata": {},
     "output_type": "execute_result"
    }
   ],
   "source": [
    "loan_prime_df1['Purpose'].value_counts()"
   ]
  },
  {
   "cell_type": "markdown",
   "id": "bb2a62ee",
   "metadata": {},
   "source": [
    "# Visualizing the Data"
   ]
  },
  {
   "cell_type": "markdown",
   "id": "5c81f891",
   "metadata": {},
   "source": [
    "## Visuals of Loan Status compared with Term"
   ]
  },
  {
   "cell_type": "code",
   "execution_count": 15,
   "id": "2e1a8f6d",
   "metadata": {},
   "outputs": [
    {
     "data": {
      "text/plain": [
       "<AxesSubplot:xlabel='Term', ylabel='count'>"
      ]
     },
     "execution_count": 15,
     "metadata": {},
     "output_type": "execute_result"
    },
    {
     "data": {
      "image/png": "[encoded data removed]",
      "text/plain": [
       "<Figure size 432x288 with 1 Axes>"
      ]
     },
     "metadata": {
      "needs_background": "light"
     },
     "output_type": "display_data"
    }
   ],
   "source": [
    "sns.countplot(x='Term',hue='Loan Status',data=loan_prime_df1)"
   ]
  },
  {
   "cell_type": "markdown",
   "id": "ff2074ae",
   "metadata": {},
   "source": [
    "## Visula of 'Time Period of Loans'"
   ]
  },
  {
   "cell_type": "code",
   "execution_count": 16,
   "id": "4d8cc360",
   "metadata": {},
   "outputs": [
    {
     "data": {
      "image/png": "[encoded data removed]",
      "text/plain": [
       "<Figure size 720x720 with 1 Axes>"
      ]
     },
     "metadata": {},
     "output_type": "display_data"
    }
   ],
   "source": [
    "plt.figure(figsize=(10,10))\n",
    "plt.pie(x=loan_prime_df1['Term'].value_counts(),labels=['short term','long term'],explode=[0,0.09],)\n",
    "plt.title('Time Period of Taking Loan',fontdict={'fontsize':20})\n",
    "plt.show()"
   ]
  },
  {
   "cell_type": "markdown",
   "id": "127d605c",
   "metadata": {},
   "source": [
    "## Visuals of Home Ownership compared with Loan Status"
   ]
  },
  {
   "cell_type": "code",
   "execution_count": 17,
   "id": "4ff76ba6",
   "metadata": {},
   "outputs": [
    {
     "data": {
      "text/plain": [
       "<AxesSubplot:xlabel='Home Ownership', ylabel='count'>"
      ]
     },
     "execution_count": 17,
     "metadata": {},
     "output_type": "execute_result"
    },
    {
     "data": {
      "image/png": "[encoded data removed]",
      "text/plain": [
       "<Figure size 432x288 with 1 Axes>"
      ]
     },
     "metadata": {
      "needs_background": "light"
     },
     "output_type": "display_data"
    }
   ],
   "source": [
    "sns.countplot(x='Home Ownership',hue='Loan Status',data=loan_prime_df1)"
   ]
  },
  {
   "cell_type": "markdown",
   "id": "86aaad56",
   "metadata": {},
   "source": [
    "### Visuals of 'Loan Status' compared with 'Years in Job'"
   ]
  },
  {
   "cell_type": "code",
   "execution_count": 18,
   "id": "1274339a",
   "metadata": {},
   "outputs": [
    {
     "data": {
      "image/png": "[encoded data removed]",
      "text/plain": [
       "<Figure size 1080x648 with 1 Axes>"
      ]
     },
     "metadata": {
      "needs_background": "light"
     },
     "output_type": "display_data"
    }
   ],
   "source": [
    "plt.figure(figsize=(15,9))\n",
    "sns.countplot(x='Years in current job',data=loan_prime_df1,hue='Loan Status')\n",
    "plt.xticks(rotation=45)\n",
    "plt.title('Job Experience',fontdict={'fontsize':20})\n",
    "plt.show()"
   ]
  },
  {
   "cell_type": "markdown",
   "id": "a9772ee9",
   "metadata": {},
   "source": [
    "## Visauls of 'Number of Credit Problems' with 'Loan Status'"
   ]
  },
  {
   "cell_type": "code",
   "execution_count": 19,
   "id": "21f1076a",
   "metadata": {},
   "outputs": [
    {
     "data": {
      "image/png": "[encoded data removed]",
      "text/plain": [
       "<Figure size 1080x648 with 1 Axes>"
      ]
     },
     "metadata": {
      "needs_background": "light"
     },
     "output_type": "display_data"
    }
   ],
   "source": [
    "plt.figure(figsize=(15,9))\n",
    "sns.countplot(x='Number of Credit Problems',data=loan_prime_df1,hue='Loan Status')\n",
    "plt.xticks(rotation=45)\n",
    "plt.title('Counts of Credit Problems',fontdict={'fontsize':20})\n",
    "plt.show()"
   ]
  },
  {
   "cell_type": "code",
   "execution_count": null,
   "id": "0aa76789",
   "metadata": {},
   "outputs": [],
   "source": []
  },
  {
   "cell_type": "markdown",
   "id": "7190cd91",
   "metadata": {},
   "source": [
    "## Visuals of 'Purporse of Taking Loan' with Loan Status"
   ]
  },
  {
   "cell_type": "code",
   "execution_count": 20,
   "id": "90cf71da",
   "metadata": {},
   "outputs": [
    {
     "data": {
      "image/png": "[encoded data removed]",
      "text/plain": [
       "<Figure size 1080x648 with 1 Axes>"
      ]
     },
     "metadata": {
      "needs_background": "light"
     },
     "output_type": "display_data"
    }
   ],
   "source": [
    "plt.figure(figsize=(15,9))\n",
    "sns.countplot(x='Purpose',data=loan_prime_df1,hue='Loan Status')\n",
    "plt.xticks(rotation=45)\n",
    "plt.title('Purpose for Loans',fontdict={'fontsize':20})\n",
    "plt.show()"
   ]
  },
  {
   "cell_type": "markdown",
   "id": "9c5c7f91",
   "metadata": {},
   "source": [
    "## Viusals of comparing Montly Debts with Tax Liens"
   ]
  },
  {
   "cell_type": "code",
   "execution_count": 21,
   "id": "8ef7c00b",
   "metadata": {},
   "outputs": [
    {
     "data": {
      "image/png": "[encoded data removed]",
      "text/plain": [
       "<Figure size 1080x576 with 1 Axes>"
      ]
     },
     "metadata": {
      "needs_background": "light"
     },
     "output_type": "display_data"
    }
   ],
   "source": [
    "plt.figure(figsize=(15,8))\n",
    "sns.barplot(x=loan_prime_df1['Tax Liens'],y=loan_prime_df1['Monthly Debt'])\n",
    "plt.title('Montly Debt vs Tax liens',fontdict={'fontsize':20})\n",
    "plt.show()"
   ]
  },
  {
   "cell_type": "markdown",
   "id": "4d0dfacc",
   "metadata": {},
   "source": [
    "## Visuals of Bankruptcy comparing with Monthly Debts"
   ]
  },
  {
   "cell_type": "code",
   "execution_count": 23,
   "id": "c76df290",
   "metadata": {},
   "outputs": [
    {
     "data": {
      "image/png": "[encoded data removed]",
      "text/plain": [
       "<Figure size 1080x576 with 1 Axes>"
      ]
     },
     "metadata": {
      "needs_background": "light"
     },
     "output_type": "display_data"
    }
   ],
   "source": [
    "plt.figure(figsize=(15,8))\n",
    "sns.barplot(x=loan_prime_df1['Bankruptcies'],y=loan_prime_df1['Monthly Debt'])\n",
    "plt.title('Bankruptcy with Monthly Dept',fontdict={'fontsize':20})\n",
    "plt.show()"
   ]
  },
  {
   "cell_type": "markdown",
   "id": "496985e2",
   "metadata": {},
   "source": [
    "# Data Cleansing"
   ]
  },
  {
   "cell_type": "code",
   "execution_count": 4,
   "id": "ba09f4d8",
   "metadata": {},
   "outputs": [
    {
     "data": {
      "text/html": [
       "<div>\n",
       "<style scoped>\n",
       "    .dataframe tbody tr th:only-of-type {\n",
       "        vertical-align: middle;\n",
       "    }\n",
       "\n",
       "    .dataframe tbody tr th {\n",
       "        vertical-align: top;\n",
       "    }\n",
       "\n",
       "    .dataframe thead th {\n",
       "        text-align: right;\n",
       "    }\n",
       "</style>\n",
       "<table border=\"1\" class=\"dataframe\">\n",
       "  <thead>\n",
       "    <tr style=\"text-align: right;\">\n",
       "      <th></th>\n",
       "      <th>Loan ID</th>\n",
       "      <th>Customer ID</th>\n",
       "      <th>Loan Status</th>\n",
       "      <th>Current Loan Amount</th>\n",
       "      <th>Term</th>\n",
       "      <th>Credit Score</th>\n",
       "      <th>Annual Income</th>\n",
       "      <th>Years in current job</th>\n",
       "      <th>Home Ownership</th>\n",
       "      <th>Purpose</th>\n",
       "      <th>Monthly Debt</th>\n",
       "      <th>Years of Credit History</th>\n",
       "      <th>Months since last delinquent</th>\n",
       "      <th>Number of Open Accounts</th>\n",
       "      <th>Number of Credit Problems</th>\n",
       "      <th>Current Credit Balance</th>\n",
       "      <th>Maximum Open Credit</th>\n",
       "      <th>Bankruptcies</th>\n",
       "      <th>Tax Liens</th>\n",
       "    </tr>\n",
       "  </thead>\n",
       "  <tbody>\n",
       "    <tr>\n",
       "      <th>0</th>\n",
       "      <td>14dd8831-6af5-400b-83ec-68e61888a048</td>\n",
       "      <td>981165ec-3274-42f5-a3b4-d104041a9ca9</td>\n",
       "      <td>Fully Paid</td>\n",
       "      <td>445412.0</td>\n",
       "      <td>Short Term</td>\n",
       "      <td>709.0</td>\n",
       "      <td>1167493.0</td>\n",
       "      <td>8 years</td>\n",
       "      <td>Home Mortgage</td>\n",
       "      <td>Home Improvements</td>\n",
       "      <td>5214.74</td>\n",
       "      <td>17.2</td>\n",
       "      <td>NaN</td>\n",
       "      <td>6.0</td>\n",
       "      <td>1.0</td>\n",
       "      <td>228190.0</td>\n",
       "      <td>416746.0</td>\n",
       "      <td>1.0</td>\n",
       "      <td>0.0</td>\n",
       "    </tr>\n",
       "    <tr>\n",
       "      <th>1</th>\n",
       "      <td>4771cc26-131a-45db-b5aa-537ea4ba5342</td>\n",
       "      <td>2de017a3-2e01-49cb-a581-08169e83be29</td>\n",
       "      <td>Fully Paid</td>\n",
       "      <td>262328.0</td>\n",
       "      <td>Short Term</td>\n",
       "      <td>NaN</td>\n",
       "      <td>NaN</td>\n",
       "      <td>10+ years</td>\n",
       "      <td>Home Mortgage</td>\n",
       "      <td>Debt Consolidation</td>\n",
       "      <td>33295.98</td>\n",
       "      <td>21.1</td>\n",
       "      <td>8.0</td>\n",
       "      <td>35.0</td>\n",
       "      <td>0.0</td>\n",
       "      <td>229976.0</td>\n",
       "      <td>850784.0</td>\n",
       "      <td>0.0</td>\n",
       "      <td>0.0</td>\n",
       "    </tr>\n",
       "    <tr>\n",
       "      <th>2</th>\n",
       "      <td>4eed4e6a-aa2f-4c91-8651-ce984ee8fb26</td>\n",
       "      <td>5efb2b2b-bf11-4dfd-a572-3761a2694725</td>\n",
       "      <td>Fully Paid</td>\n",
       "      <td>99999999.0</td>\n",
       "      <td>Short Term</td>\n",
       "      <td>741.0</td>\n",
       "      <td>2231892.0</td>\n",
       "      <td>8 years</td>\n",
       "      <td>Own Home</td>\n",
       "      <td>Debt Consolidation</td>\n",
       "      <td>29200.53</td>\n",
       "      <td>14.9</td>\n",
       "      <td>29.0</td>\n",
       "      <td>18.0</td>\n",
       "      <td>1.0</td>\n",
       "      <td>297996.0</td>\n",
       "      <td>750090.0</td>\n",
       "      <td>0.0</td>\n",
       "      <td>0.0</td>\n",
       "    </tr>\n",
       "    <tr>\n",
       "      <th>3</th>\n",
       "      <td>77598f7b-32e7-4e3b-a6e5-06ba0d98fe8a</td>\n",
       "      <td>e777faab-98ae-45af-9a86-7ce5b33b1011</td>\n",
       "      <td>Fully Paid</td>\n",
       "      <td>347666.0</td>\n",
       "      <td>Long Term</td>\n",
       "      <td>721.0</td>\n",
       "      <td>806949.0</td>\n",
       "      <td>3 years</td>\n",
       "      <td>Own Home</td>\n",
       "      <td>Debt Consolidation</td>\n",
       "      <td>8741.90</td>\n",
       "      <td>12.0</td>\n",
       "      <td>NaN</td>\n",
       "      <td>9.0</td>\n",
       "      <td>0.0</td>\n",
       "      <td>256329.0</td>\n",
       "      <td>386958.0</td>\n",
       "      <td>0.0</td>\n",
       "      <td>0.0</td>\n",
       "    </tr>\n",
       "    <tr>\n",
       "      <th>4</th>\n",
       "      <td>d4062e70-befa-4995-8643-a0de73938182</td>\n",
       "      <td>81536ad9-5ccf-4eb8-befb-47a4d608658e</td>\n",
       "      <td>Fully Paid</td>\n",
       "      <td>176220.0</td>\n",
       "      <td>Short Term</td>\n",
       "      <td>NaN</td>\n",
       "      <td>NaN</td>\n",
       "      <td>5 years</td>\n",
       "      <td>Rent</td>\n",
       "      <td>Debt Consolidation</td>\n",
       "      <td>20639.70</td>\n",
       "      <td>6.1</td>\n",
       "      <td>NaN</td>\n",
       "      <td>15.0</td>\n",
       "      <td>0.0</td>\n",
       "      <td>253460.0</td>\n",
       "      <td>427174.0</td>\n",
       "      <td>0.0</td>\n",
       "      <td>0.0</td>\n",
       "    </tr>\n",
       "  </tbody>\n",
       "</table>\n",
       "</div>"
      ],
      "text/plain": [
       "                                Loan ID                           Customer ID  \\\n",
       "0  14dd8831-6af5-400b-83ec-68e61888a048  981165ec-3274-42f5-a3b4-d104041a9ca9   \n",
       "1  4771cc26-131a-45db-b5aa-537ea4ba5342  2de017a3-2e01-49cb-a581-08169e83be29   \n",
       "2  4eed4e6a-aa2f-4c91-8651-ce984ee8fb26  5efb2b2b-bf11-4dfd-a572-3761a2694725   \n",
       "3  77598f7b-32e7-4e3b-a6e5-06ba0d98fe8a  e777faab-98ae-45af-9a86-7ce5b33b1011   \n",
       "4  d4062e70-befa-4995-8643-a0de73938182  81536ad9-5ccf-4eb8-befb-47a4d608658e   \n",
       "\n",
       "  Loan Status  Current Loan Amount        Term  Credit Score  Annual Income  \\\n",
       "0  Fully Paid             445412.0  Short Term         709.0      1167493.0   \n",
       "1  Fully Paid             262328.0  Short Term           NaN            NaN   \n",
       "2  Fully Paid           99999999.0  Short Term         741.0      2231892.0   \n",
       "3  Fully Paid             347666.0   Long Term         721.0       806949.0   \n",
       "4  Fully Paid             176220.0  Short Term           NaN            NaN   \n",
       "\n",
       "  Years in current job Home Ownership             Purpose  Monthly Debt  \\\n",
       "0              8 years  Home Mortgage   Home Improvements       5214.74   \n",
       "1            10+ years  Home Mortgage  Debt Consolidation      33295.98   \n",
       "2              8 years       Own Home  Debt Consolidation      29200.53   \n",
       "3              3 years       Own Home  Debt Consolidation       8741.90   \n",
       "4              5 years           Rent  Debt Consolidation      20639.70   \n",
       "\n",
       "   Years of Credit History  Months since last delinquent  \\\n",
       "0                     17.2                           NaN   \n",
       "1                     21.1                           8.0   \n",
       "2                     14.9                          29.0   \n",
       "3                     12.0                           NaN   \n",
       "4                      6.1                           NaN   \n",
       "\n",
       "   Number of Open Accounts  Number of Credit Problems  Current Credit Balance  \\\n",
       "0                      6.0                        1.0                228190.0   \n",
       "1                     35.0                        0.0                229976.0   \n",
       "2                     18.0                        1.0                297996.0   \n",
       "3                      9.0                        0.0                256329.0   \n",
       "4                     15.0                        0.0                253460.0   \n",
       "\n",
       "   Maximum Open Credit  Bankruptcies  Tax Liens  \n",
       "0             416746.0           1.0        0.0  \n",
       "1             850784.0           0.0        0.0  \n",
       "2             750090.0           0.0        0.0  \n",
       "3             386958.0           0.0        0.0  \n",
       "4             427174.0           0.0        0.0  "
      ]
     },
     "execution_count": 4,
     "metadata": {},
     "output_type": "execute_result"
    }
   ],
   "source": [
    "loan_prime_df1.head()"
   ]
  },
  {
   "cell_type": "markdown",
   "id": "66c627f8",
   "metadata": {},
   "source": [
    "## Checking NA/ Null Values"
   ]
  },
  {
   "cell_type": "code",
   "execution_count": 5,
   "id": "388fdbbb",
   "metadata": {},
   "outputs": [
    {
     "data": {
      "text/html": [
       "<div>\n",
       "<style scoped>\n",
       "    .dataframe tbody tr th:only-of-type {\n",
       "        vertical-align: middle;\n",
       "    }\n",
       "\n",
       "    .dataframe tbody tr th {\n",
       "        vertical-align: top;\n",
       "    }\n",
       "\n",
       "    .dataframe thead th {\n",
       "        text-align: right;\n",
       "    }\n",
       "</style>\n",
       "<table border=\"1\" class=\"dataframe\">\n",
       "  <thead>\n",
       "    <tr style=\"text-align: right;\">\n",
       "      <th></th>\n",
       "      <th>Loan ID</th>\n",
       "      <th>Customer ID</th>\n",
       "      <th>Loan Status</th>\n",
       "      <th>Current Loan Amount</th>\n",
       "      <th>Term</th>\n",
       "      <th>Credit Score</th>\n",
       "      <th>Annual Income</th>\n",
       "      <th>Years in current job</th>\n",
       "      <th>Home Ownership</th>\n",
       "      <th>Purpose</th>\n",
       "      <th>Monthly Debt</th>\n",
       "      <th>Years of Credit History</th>\n",
       "      <th>Months since last delinquent</th>\n",
       "      <th>Number of Open Accounts</th>\n",
       "      <th>Number of Credit Problems</th>\n",
       "      <th>Current Credit Balance</th>\n",
       "      <th>Maximum Open Credit</th>\n",
       "      <th>Bankruptcies</th>\n",
       "      <th>Tax Liens</th>\n",
       "    </tr>\n",
       "  </thead>\n",
       "  <tbody>\n",
       "    <tr>\n",
       "      <th>0</th>\n",
       "      <td>False</td>\n",
       "      <td>False</td>\n",
       "      <td>False</td>\n",
       "      <td>False</td>\n",
       "      <td>False</td>\n",
       "      <td>False</td>\n",
       "      <td>False</td>\n",
       "      <td>False</td>\n",
       "      <td>False</td>\n",
       "      <td>False</td>\n",
       "      <td>False</td>\n",
       "      <td>False</td>\n",
       "      <td>True</td>\n",
       "      <td>False</td>\n",
       "      <td>False</td>\n",
       "      <td>False</td>\n",
       "      <td>False</td>\n",
       "      <td>False</td>\n",
       "      <td>False</td>\n",
       "    </tr>\n",
       "    <tr>\n",
       "      <th>1</th>\n",
       "      <td>False</td>\n",
       "      <td>False</td>\n",
       "      <td>False</td>\n",
       "      <td>False</td>\n",
       "      <td>False</td>\n",
       "      <td>True</td>\n",
       "      <td>True</td>\n",
       "      <td>False</td>\n",
       "      <td>False</td>\n",
       "      <td>False</td>\n",
       "      <td>False</td>\n",
       "      <td>False</td>\n",
       "      <td>False</td>\n",
       "      <td>False</td>\n",
       "      <td>False</td>\n",
       "      <td>False</td>\n",
       "      <td>False</td>\n",
       "      <td>False</td>\n",
       "      <td>False</td>\n",
       "    </tr>\n",
       "    <tr>\n",
       "      <th>2</th>\n",
       "      <td>False</td>\n",
       "      <td>False</td>\n",
       "      <td>False</td>\n",
       "      <td>False</td>\n",
       "      <td>False</td>\n",
       "      <td>False</td>\n",
       "      <td>False</td>\n",
       "      <td>False</td>\n",
       "      <td>False</td>\n",
       "      <td>False</td>\n",
       "      <td>False</td>\n",
       "      <td>False</td>\n",
       "      <td>False</td>\n",
       "      <td>False</td>\n",
       "      <td>False</td>\n",
       "      <td>False</td>\n",
       "      <td>False</td>\n",
       "      <td>False</td>\n",
       "      <td>False</td>\n",
       "    </tr>\n",
       "    <tr>\n",
       "      <th>3</th>\n",
       "      <td>False</td>\n",
       "      <td>False</td>\n",
       "      <td>False</td>\n",
       "      <td>False</td>\n",
       "      <td>False</td>\n",
       "      <td>False</td>\n",
       "      <td>False</td>\n",
       "      <td>False</td>\n",
       "      <td>False</td>\n",
       "      <td>False</td>\n",
       "      <td>False</td>\n",
       "      <td>False</td>\n",
       "      <td>True</td>\n",
       "      <td>False</td>\n",
       "      <td>False</td>\n",
       "      <td>False</td>\n",
       "      <td>False</td>\n",
       "      <td>False</td>\n",
       "      <td>False</td>\n",
       "    </tr>\n",
       "    <tr>\n",
       "      <th>4</th>\n",
       "      <td>False</td>\n",
       "      <td>False</td>\n",
       "      <td>False</td>\n",
       "      <td>False</td>\n",
       "      <td>False</td>\n",
       "      <td>True</td>\n",
       "      <td>True</td>\n",
       "      <td>False</td>\n",
       "      <td>False</td>\n",
       "      <td>False</td>\n",
       "      <td>False</td>\n",
       "      <td>False</td>\n",
       "      <td>True</td>\n",
       "      <td>False</td>\n",
       "      <td>False</td>\n",
       "      <td>False</td>\n",
       "      <td>False</td>\n",
       "      <td>False</td>\n",
       "      <td>False</td>\n",
       "    </tr>\n",
       "  </tbody>\n",
       "</table>\n",
       "</div>"
      ],
      "text/plain": [
       "   Loan ID  Customer ID  Loan Status  Current Loan Amount   Term  \\\n",
       "0    False        False        False                False  False   \n",
       "1    False        False        False                False  False   \n",
       "2    False        False        False                False  False   \n",
       "3    False        False        False                False  False   \n",
       "4    False        False        False                False  False   \n",
       "\n",
       "   Credit Score  Annual Income  Years in current job  Home Ownership  Purpose  \\\n",
       "0         False          False                 False           False    False   \n",
       "1          True           True                 False           False    False   \n",
       "2         False          False                 False           False    False   \n",
       "3         False          False                 False           False    False   \n",
       "4          True           True                 False           False    False   \n",
       "\n",
       "   Monthly Debt  Years of Credit History  Months since last delinquent  \\\n",
       "0         False                    False                          True   \n",
       "1         False                    False                         False   \n",
       "2         False                    False                         False   \n",
       "3         False                    False                          True   \n",
       "4         False                    False                          True   \n",
       "\n",
       "   Number of Open Accounts  Number of Credit Problems  Current Credit Balance  \\\n",
       "0                    False                      False                   False   \n",
       "1                    False                      False                   False   \n",
       "2                    False                      False                   False   \n",
       "3                    False                      False                   False   \n",
       "4                    False                      False                   False   \n",
       "\n",
       "   Maximum Open Credit  Bankruptcies  Tax Liens  \n",
       "0                False         False      False  \n",
       "1                False         False      False  \n",
       "2                False         False      False  \n",
       "3                False         False      False  \n",
       "4                False         False      False  "
      ]
     },
     "execution_count": 5,
     "metadata": {},
     "output_type": "execute_result"
    }
   ],
   "source": [
    "loan_prime_df1.isnull().head()"
   ]
  },
  {
   "cell_type": "code",
   "execution_count": 6,
   "id": "e77caf2d",
   "metadata": {},
   "outputs": [
    {
     "data": {
      "text/plain": [
       "Loan ID                           514\n",
       "Customer ID                       514\n",
       "Loan Status                       514\n",
       "Current Loan Amount               514\n",
       "Term                              514\n",
       "Credit Score                    19668\n",
       "Annual Income                   19668\n",
       "Years in current job             4736\n",
       "Home Ownership                    514\n",
       "Purpose                           514\n",
       "Monthly Debt                      514\n",
       "Years of Credit History           514\n",
       "Months since last delinquent    53655\n",
       "Number of Open Accounts           514\n",
       "Number of Credit Problems         514\n",
       "Current Credit Balance            514\n",
       "Maximum Open Credit               516\n",
       "Bankruptcies                      718\n",
       "Tax Liens                         524\n",
       "dtype: int64"
      ]
     },
     "execution_count": 6,
     "metadata": {},
     "output_type": "execute_result"
    }
   ],
   "source": [
    "loan_prime_df1.isnull().sum()"
   ]
  },
  {
   "cell_type": "code",
   "execution_count": 7,
   "id": "4e3982a2",
   "metadata": {},
   "outputs": [
    {
     "data": {
      "text/plain": [
       "<AxesSubplot:>"
      ]
     },
     "execution_count": 7,
     "metadata": {},
     "output_type": "execute_result"
    },
    {
     "data": {
      "image/png": "[encoded data removed]",
      "text/plain": [
       "<Figure size 432x288 with 2 Axes>"
      ]
     },
     "metadata": {
      "needs_background": "light"
     },
     "output_type": "display_data"
    }
   ],
   "source": [
    "sns.heatmap(loan_prime_df1.isnull(), yticklabels=False, cmap='viridis')"
   ]
  },
  {
   "cell_type": "markdown",
   "id": "83475454",
   "metadata": {},
   "source": [
    "## Dropping Unused Data & Filling NA / Null Values"
   ]
  },
  {
   "cell_type": "code",
   "execution_count": 8,
   "id": "dffcba2f",
   "metadata": {},
   "outputs": [],
   "source": [
    "loan_prime_df1 = loan_prime_df1.dropna()"
   ]
  },
  {
   "cell_type": "code",
   "execution_count": 9,
   "id": "04a254ef",
   "metadata": {},
   "outputs": [
    {
     "data": {
      "text/plain": [
       "Loan ID                         0\n",
       "Customer ID                     0\n",
       "Loan Status                     0\n",
       "Current Loan Amount             0\n",
       "Term                            0\n",
       "Credit Score                    0\n",
       "Annual Income                   0\n",
       "Years in current job            0\n",
       "Home Ownership                  0\n",
       "Purpose                         0\n",
       "Monthly Debt                    0\n",
       "Years of Credit History         0\n",
       "Months since last delinquent    0\n",
       "Number of Open Accounts         0\n",
       "Number of Credit Problems       0\n",
       "Current Credit Balance          0\n",
       "Maximum Open Credit             0\n",
       "Bankruptcies                    0\n",
       "Tax Liens                       0\n",
       "dtype: int64"
      ]
     },
     "execution_count": 9,
     "metadata": {},
     "output_type": "execute_result"
    }
   ],
   "source": [
    "loan_prime_df1.isnull().sum()"
   ]
  },
  {
   "cell_type": "code",
   "execution_count": 10,
   "id": "1f60755e",
   "metadata": {},
   "outputs": [
    {
     "data": {
      "text/html": [
       "<div>\n",
       "<style scoped>\n",
       "    .dataframe tbody tr th:only-of-type {\n",
       "        vertical-align: middle;\n",
       "    }\n",
       "\n",
       "    .dataframe tbody tr th {\n",
       "        vertical-align: top;\n",
       "    }\n",
       "\n",
       "    .dataframe thead th {\n",
       "        text-align: right;\n",
       "    }\n",
       "</style>\n",
       "<table border=\"1\" class=\"dataframe\">\n",
       "  <thead>\n",
       "    <tr style=\"text-align: right;\">\n",
       "      <th></th>\n",
       "      <th>Loan ID</th>\n",
       "      <th>Customer ID</th>\n",
       "      <th>Loan Status</th>\n",
       "      <th>Current Loan Amount</th>\n",
       "      <th>Term</th>\n",
       "      <th>Credit Score</th>\n",
       "      <th>Annual Income</th>\n",
       "      <th>Years in current job</th>\n",
       "      <th>Home Ownership</th>\n",
       "      <th>Purpose</th>\n",
       "      <th>Monthly Debt</th>\n",
       "      <th>Years of Credit History</th>\n",
       "      <th>Months since last delinquent</th>\n",
       "      <th>Number of Open Accounts</th>\n",
       "      <th>Number of Credit Problems</th>\n",
       "      <th>Current Credit Balance</th>\n",
       "      <th>Maximum Open Credit</th>\n",
       "      <th>Bankruptcies</th>\n",
       "      <th>Tax Liens</th>\n",
       "    </tr>\n",
       "  </thead>\n",
       "  <tbody>\n",
       "    <tr>\n",
       "      <th>2</th>\n",
       "      <td>4eed4e6a-aa2f-4c91-8651-ce984ee8fb26</td>\n",
       "      <td>5efb2b2b-bf11-4dfd-a572-3761a2694725</td>\n",
       "      <td>Fully Paid</td>\n",
       "      <td>99999999.0</td>\n",
       "      <td>Short Term</td>\n",
       "      <td>741.0</td>\n",
       "      <td>2231892.0</td>\n",
       "      <td>8 years</td>\n",
       "      <td>Own Home</td>\n",
       "      <td>Debt Consolidation</td>\n",
       "      <td>29200.53</td>\n",
       "      <td>14.9</td>\n",
       "      <td>29.0</td>\n",
       "      <td>18.0</td>\n",
       "      <td>1.0</td>\n",
       "      <td>297996.0</td>\n",
       "      <td>750090.0</td>\n",
       "      <td>0.0</td>\n",
       "      <td>0.0</td>\n",
       "    </tr>\n",
       "    <tr>\n",
       "      <th>6</th>\n",
       "      <td>273581de-85d8-4332-81a5-19b04ce68666</td>\n",
       "      <td>90a75dde-34d5-419c-90dc-1e58b04b3e35</td>\n",
       "      <td>Fully Paid</td>\n",
       "      <td>217646.0</td>\n",
       "      <td>Short Term</td>\n",
       "      <td>730.0</td>\n",
       "      <td>1184194.0</td>\n",
       "      <td>&lt; 1 year</td>\n",
       "      <td>Home Mortgage</td>\n",
       "      <td>Debt Consolidation</td>\n",
       "      <td>10855.08</td>\n",
       "      <td>19.6</td>\n",
       "      <td>10.0</td>\n",
       "      <td>13.0</td>\n",
       "      <td>1.0</td>\n",
       "      <td>122170.0</td>\n",
       "      <td>272052.0</td>\n",
       "      <td>1.0</td>\n",
       "      <td>0.0</td>\n",
       "    </tr>\n",
       "    <tr>\n",
       "      <th>8</th>\n",
       "      <td>8af915d9-9e91-44a0-b5a2-564a45c12089</td>\n",
       "      <td>af534dea-d27e-4fd6-9de8-efaa52a78ec0</td>\n",
       "      <td>Fully Paid</td>\n",
       "      <td>548746.0</td>\n",
       "      <td>Short Term</td>\n",
       "      <td>678.0</td>\n",
       "      <td>2559110.0</td>\n",
       "      <td>2 years</td>\n",
       "      <td>Rent</td>\n",
       "      <td>Debt Consolidation</td>\n",
       "      <td>18660.28</td>\n",
       "      <td>22.6</td>\n",
       "      <td>33.0</td>\n",
       "      <td>4.0</td>\n",
       "      <td>0.0</td>\n",
       "      <td>437171.0</td>\n",
       "      <td>555038.0</td>\n",
       "      <td>0.0</td>\n",
       "      <td>0.0</td>\n",
       "    </tr>\n",
       "    <tr>\n",
       "      <th>10</th>\n",
       "      <td>32c2e48f-1ba8-45e0-a530-9a6622c18d9c</td>\n",
       "      <td>0de7bcdb-ebf4-4608-ba39-05f083f855b6</td>\n",
       "      <td>Fully Paid</td>\n",
       "      <td>99999999.0</td>\n",
       "      <td>Short Term</td>\n",
       "      <td>728.0</td>\n",
       "      <td>714628.0</td>\n",
       "      <td>3 years</td>\n",
       "      <td>Rent</td>\n",
       "      <td>Debt Consolidation</td>\n",
       "      <td>11851.06</td>\n",
       "      <td>16.0</td>\n",
       "      <td>76.0</td>\n",
       "      <td>16.0</td>\n",
       "      <td>0.0</td>\n",
       "      <td>203965.0</td>\n",
       "      <td>289784.0</td>\n",
       "      <td>0.0</td>\n",
       "      <td>0.0</td>\n",
       "    </tr>\n",
       "    <tr>\n",
       "      <th>12</th>\n",
       "      <td>403d7235-0284-4bb6-919a-09402fecbf7b</td>\n",
       "      <td>11581f68-de3c-49d8-80d9-22268ebb323b</td>\n",
       "      <td>Fully Paid</td>\n",
       "      <td>99999999.0</td>\n",
       "      <td>Short Term</td>\n",
       "      <td>740.0</td>\n",
       "      <td>776188.0</td>\n",
       "      <td>&lt; 1 year</td>\n",
       "      <td>Own Home</td>\n",
       "      <td>Debt Consolidation</td>\n",
       "      <td>11578.22</td>\n",
       "      <td>8.5</td>\n",
       "      <td>25.0</td>\n",
       "      <td>6.0</td>\n",
       "      <td>0.0</td>\n",
       "      <td>134083.0</td>\n",
       "      <td>220220.0</td>\n",
       "      <td>0.0</td>\n",
       "      <td>0.0</td>\n",
       "    </tr>\n",
       "    <tr>\n",
       "      <th>14</th>\n",
       "      <td>2e841c8f-3dc1-464d-91c1-3d3d51e64c38</td>\n",
       "      <td>2ac05980-7848-4692-89ae-9321afe650f8</td>\n",
       "      <td>Fully Paid</td>\n",
       "      <td>234124.0</td>\n",
       "      <td>Short Term</td>\n",
       "      <td>727.0</td>\n",
       "      <td>693234.0</td>\n",
       "      <td>10+ years</td>\n",
       "      <td>Rent</td>\n",
       "      <td>Debt Consolidation</td>\n",
       "      <td>14211.24</td>\n",
       "      <td>24.7</td>\n",
       "      <td>46.0</td>\n",
       "      <td>10.0</td>\n",
       "      <td>1.0</td>\n",
       "      <td>28291.0</td>\n",
       "      <td>107052.0</td>\n",
       "      <td>1.0</td>\n",
       "      <td>0.0</td>\n",
       "    </tr>\n",
       "    <tr>\n",
       "      <th>17</th>\n",
       "      <td>24e8c8bd-d10b-4dac-8b81-1da470ff5ecb</td>\n",
       "      <td>967e8733-7189-49b7-a3ab-6a1d0e1abdac</td>\n",
       "      <td>Fully Paid</td>\n",
       "      <td>666204.0</td>\n",
       "      <td>Long Term</td>\n",
       "      <td>723.0</td>\n",
       "      <td>1821967.0</td>\n",
       "      <td>10+ years</td>\n",
       "      <td>Home Mortgage</td>\n",
       "      <td>Debt Consolidation</td>\n",
       "      <td>17612.24</td>\n",
       "      <td>22.0</td>\n",
       "      <td>34.0</td>\n",
       "      <td>15.0</td>\n",
       "      <td>0.0</td>\n",
       "      <td>813694.0</td>\n",
       "      <td>2004618.0</td>\n",
       "      <td>0.0</td>\n",
       "      <td>0.0</td>\n",
       "    </tr>\n",
       "    <tr>\n",
       "      <th>20</th>\n",
       "      <td>150ebbad-ebed-441e-b70d-2f350ad7dca6</td>\n",
       "      <td>40f729c9-54c7-4768-9fb5-2fa41d074c48</td>\n",
       "      <td>Charged Off</td>\n",
       "      <td>317108.0</td>\n",
       "      <td>Long Term</td>\n",
       "      <td>687.0</td>\n",
       "      <td>1133274.0</td>\n",
       "      <td>8 years</td>\n",
       "      <td>Rent</td>\n",
       "      <td>Debt Consolidation</td>\n",
       "      <td>9632.81</td>\n",
       "      <td>17.4</td>\n",
       "      <td>53.0</td>\n",
       "      <td>4.0</td>\n",
       "      <td>0.0</td>\n",
       "      <td>60287.0</td>\n",
       "      <td>126940.0</td>\n",
       "      <td>0.0</td>\n",
       "      <td>0.0</td>\n",
       "    </tr>\n",
       "    <tr>\n",
       "      <th>25</th>\n",
       "      <td>578c8e10-3214-4491-bdbc-b1695ef8ff87</td>\n",
       "      <td>cbe53e22-ba67-4eaf-a4fb-c5acdd12ec66</td>\n",
       "      <td>Fully Paid</td>\n",
       "      <td>465410.0</td>\n",
       "      <td>Long Term</td>\n",
       "      <td>688.0</td>\n",
       "      <td>1722654.0</td>\n",
       "      <td>3 years</td>\n",
       "      <td>Rent</td>\n",
       "      <td>Buy House</td>\n",
       "      <td>15647.45</td>\n",
       "      <td>22.3</td>\n",
       "      <td>30.0</td>\n",
       "      <td>7.0</td>\n",
       "      <td>0.0</td>\n",
       "      <td>107559.0</td>\n",
       "      <td>488356.0</td>\n",
       "      <td>0.0</td>\n",
       "      <td>0.0</td>\n",
       "    </tr>\n",
       "    <tr>\n",
       "      <th>28</th>\n",
       "      <td>ccc6dadf-7530-4ca6-a679-a228ae478b5d</td>\n",
       "      <td>689da294-ff83-4d49-986a-c61887f6d4e2</td>\n",
       "      <td>Fully Paid</td>\n",
       "      <td>99999999.0</td>\n",
       "      <td>Short Term</td>\n",
       "      <td>746.0</td>\n",
       "      <td>1749748.0</td>\n",
       "      <td>10+ years</td>\n",
       "      <td>Home Mortgage</td>\n",
       "      <td>Debt Consolidation</td>\n",
       "      <td>19247.19</td>\n",
       "      <td>20.0</td>\n",
       "      <td>32.0</td>\n",
       "      <td>17.0</td>\n",
       "      <td>0.0</td>\n",
       "      <td>224390.0</td>\n",
       "      <td>295240.0</td>\n",
       "      <td>0.0</td>\n",
       "      <td>0.0</td>\n",
       "    </tr>\n",
       "  </tbody>\n",
       "</table>\n",
       "</div>"
      ],
      "text/plain": [
       "                                 Loan ID  \\\n",
       "2   4eed4e6a-aa2f-4c91-8651-ce984ee8fb26   \n",
       "6   273581de-85d8-4332-81a5-19b04ce68666   \n",
       "8   8af915d9-9e91-44a0-b5a2-564a45c12089   \n",
       "10  32c2e48f-1ba8-45e0-a530-9a6622c18d9c   \n",
       "12  403d7235-0284-4bb6-919a-09402fecbf7b   \n",
       "14  2e841c8f-3dc1-464d-91c1-3d3d51e64c38   \n",
       "17  24e8c8bd-d10b-4dac-8b81-1da470ff5ecb   \n",
       "20  150ebbad-ebed-441e-b70d-2f350ad7dca6   \n",
       "25  578c8e10-3214-4491-bdbc-b1695ef8ff87   \n",
       "28  ccc6dadf-7530-4ca6-a679-a228ae478b5d   \n",
       "\n",
       "                             Customer ID  Loan Status  Current Loan Amount  \\\n",
       "2   5efb2b2b-bf11-4dfd-a572-3761a2694725   Fully Paid           99999999.0   \n",
       "6   90a75dde-34d5-419c-90dc-1e58b04b3e35   Fully Paid             217646.0   \n",
       "8   af534dea-d27e-4fd6-9de8-efaa52a78ec0   Fully Paid             548746.0   \n",
       "10  0de7bcdb-ebf4-4608-ba39-05f083f855b6   Fully Paid           99999999.0   \n",
       "12  11581f68-de3c-49d8-80d9-22268ebb323b   Fully Paid           99999999.0   \n",
       "14  2ac05980-7848-4692-89ae-9321afe650f8   Fully Paid             234124.0   \n",
       "17  967e8733-7189-49b7-a3ab-6a1d0e1abdac   Fully Paid             666204.0   \n",
       "20  40f729c9-54c7-4768-9fb5-2fa41d074c48  Charged Off             317108.0   \n",
       "25  cbe53e22-ba67-4eaf-a4fb-c5acdd12ec66   Fully Paid             465410.0   \n",
       "28  689da294-ff83-4d49-986a-c61887f6d4e2   Fully Paid           99999999.0   \n",
       "\n",
       "          Term  Credit Score  Annual Income Years in current job  \\\n",
       "2   Short Term         741.0      2231892.0              8 years   \n",
       "6   Short Term         730.0      1184194.0             < 1 year   \n",
       "8   Short Term         678.0      2559110.0              2 years   \n",
       "10  Short Term         728.0       714628.0              3 years   \n",
       "12  Short Term         740.0       776188.0             < 1 year   \n",
       "14  Short Term         727.0       693234.0            10+ years   \n",
       "17   Long Term         723.0      1821967.0            10+ years   \n",
       "20   Long Term         687.0      1133274.0              8 years   \n",
       "25   Long Term         688.0      1722654.0              3 years   \n",
       "28  Short Term         746.0      1749748.0            10+ years   \n",
       "\n",
       "   Home Ownership             Purpose  Monthly Debt  Years of Credit History  \\\n",
       "2        Own Home  Debt Consolidation      29200.53                     14.9   \n",
       "6   Home Mortgage  Debt Consolidation      10855.08                     19.6   \n",
       "8            Rent  Debt Consolidation      18660.28                     22.6   \n",
       "10           Rent  Debt Consolidation      11851.06                     16.0   \n",
       "12       Own Home  Debt Consolidation      11578.22                      8.5   \n",
       "14           Rent  Debt Consolidation      14211.24                     24.7   \n",
       "17  Home Mortgage  Debt Consolidation      17612.24                     22.0   \n",
       "20           Rent  Debt Consolidation       9632.81                     17.4   \n",
       "25           Rent           Buy House      15647.45                     22.3   \n",
       "28  Home Mortgage  Debt Consolidation      19247.19                     20.0   \n",
       "\n",
       "    Months since last delinquent  Number of Open Accounts  \\\n",
       "2                           29.0                     18.0   \n",
       "6                           10.0                     13.0   \n",
       "8                           33.0                      4.0   \n",
       "10                          76.0                     16.0   \n",
       "12                          25.0                      6.0   \n",
       "14                          46.0                     10.0   \n",
       "17                          34.0                     15.0   \n",
       "20                          53.0                      4.0   \n",
       "25                          30.0                      7.0   \n",
       "28                          32.0                     17.0   \n",
       "\n",
       "    Number of Credit Problems  Current Credit Balance  Maximum Open Credit  \\\n",
       "2                         1.0                297996.0             750090.0   \n",
       "6                         1.0                122170.0             272052.0   \n",
       "8                         0.0                437171.0             555038.0   \n",
       "10                        0.0                203965.0             289784.0   \n",
       "12                        0.0                134083.0             220220.0   \n",
       "14                        1.0                 28291.0             107052.0   \n",
       "17                        0.0                813694.0            2004618.0   \n",
       "20                        0.0                 60287.0             126940.0   \n",
       "25                        0.0                107559.0             488356.0   \n",
       "28                        0.0                224390.0             295240.0   \n",
       "\n",
       "    Bankruptcies  Tax Liens  \n",
       "2            0.0        0.0  \n",
       "6            1.0        0.0  \n",
       "8            0.0        0.0  \n",
       "10           0.0        0.0  \n",
       "12           0.0        0.0  \n",
       "14           1.0        0.0  \n",
       "17           0.0        0.0  \n",
       "20           0.0        0.0  \n",
       "25           0.0        0.0  \n",
       "28           0.0        0.0  "
      ]
     },
     "execution_count": 10,
     "metadata": {},
     "output_type": "execute_result"
    }
   ],
   "source": [
    "loan_prime_df1.head(10)"
   ]
  },
  {
   "cell_type": "code",
   "execution_count": 11,
   "id": "d24bda81",
   "metadata": {},
   "outputs": [
    {
     "name": "stdout",
     "output_type": "stream",
     "text": [
      "<class 'pandas.core.frame.DataFrame'>\n",
      "Int64Index: 36423 entries, 2 to 99997\n",
      "Data columns (total 19 columns):\n",
      " #   Column                        Non-Null Count  Dtype  \n",
      "---  ------                        --------------  -----  \n",
      " 0   Loan ID                       36423 non-null  object \n",
      " 1   Customer ID                   36423 non-null  object \n",
      " 2   Loan Status                   36423 non-null  object \n",
      " 3   Current Loan Amount           36423 non-null  float64\n",
      " 4   Term                          36423 non-null  object \n",
      " 5   Credit Score                  36423 non-null  float64\n",
      " 6   Annual Income                 36423 non-null  float64\n",
      " 7   Years in current job          36423 non-null  object \n",
      " 8   Home Ownership                36423 non-null  object \n",
      " 9   Purpose                       36423 non-null  object \n",
      " 10  Monthly Debt                  36423 non-null  float64\n",
      " 11  Years of Credit History       36423 non-null  float64\n",
      " 12  Months since last delinquent  36423 non-null  float64\n",
      " 13  Number of Open Accounts       36423 non-null  float64\n",
      " 14  Number of Credit Problems     36423 non-null  float64\n",
      " 15  Current Credit Balance        36423 non-null  float64\n",
      " 16  Maximum Open Credit           36423 non-null  float64\n",
      " 17  Bankruptcies                  36423 non-null  float64\n",
      " 18  Tax Liens                     36423 non-null  float64\n",
      "dtypes: float64(12), object(7)\n",
      "memory usage: 5.6+ MB\n"
     ]
    }
   ],
   "source": [
    "loan_prime_df1.info()"
   ]
  },
  {
   "cell_type": "markdown",
   "id": "d1f8d163",
   "metadata": {},
   "source": [
    "## Label Enconding: Obejct Data type  >  Ineteger"
   ]
  },
  {
   "cell_type": "code",
   "execution_count": 12,
   "id": "79340d5e",
   "metadata": {},
   "outputs": [],
   "source": [
    "# convert categorical columns to numerical values\n",
    "# Fully Paid- 0 . Charged off - 1\n",
    "# Short Term-0 . Long term-1 \n",
    "# < 1 year = 0, 1 year = 1 , 2 years= 2 , 3 years = 3, 4 years = 4 , 5 years = 5 , 6 years = 6 , 7 years = 7 , 8 years = 8 , 9 years = 9, 10+ years = 10\n",
    "# Home Mortgage = 0, Rent = 1, Own Home = 2 , Have Morgage = 3 \n",
    "#'Debt Consolidation':0,'other':1 , 'Home Improvements':2, 'Other':3, 'Business Loan':4, 'Buy a Car':5, 'Medical Bills':6, 'Buy House': 7, 'Take a Trip':8, 'small_business':9,'moving':10, \n",
    "#'wedding':11, 'vacation':12, 'Educational Expenses':13, 'renewable_energy':14 \n",
    "\n"
   ]
  },
  {
   "cell_type": "code",
   "execution_count": 13,
   "id": "c9188743",
   "metadata": {},
   "outputs": [],
   "source": [
    "# convert categorical columns to numerical values\n",
    "loan_prime_df1.replace({'Loan Status': {'Fully Paid':0,'Charged Off':1}, 'Term':{'Short Term':0, 'Long Term':1}, 'Years in current job':{'< 1 year':0, '1 year': 1 , '2 years':2, '3 years':3, '4 years':4, '5 years':5, '6 years':6 ,'7 years':7 , '8 years':8, '9 years':9, '10+ years':10 },'Home Ownership':{'Home Mortgage':0, 'Rent':1, 'Own Home':2, 'HaveMortgage': 3} },inplace=True)"
   ]
  },
  {
   "cell_type": "code",
   "execution_count": 14,
   "id": "a550af75",
   "metadata": {},
   "outputs": [],
   "source": [
    "loan_prime_df1.replace({'Purpose': {'Debt Consolidation':0,'other':1 , 'Home Improvements':2, 'Other':3, 'Business Loan':4, 'Buy a Car':5, 'Medical Bills':6, 'Buy House': 7, 'Take a Trip':8, 'small_business':9,'moving':10, 'wedding':11, 'vacation':12, 'Educational Expenses':13, 'renewable_energy':14, 'major_purchase':15   }  },inplace=True)"
   ]
  },
  {
   "cell_type": "code",
   "execution_count": 15,
   "id": "dae708d9",
   "metadata": {},
   "outputs": [
    {
     "data": {
      "text/plain": [
       "0     28202\n",
       "2      2409\n",
       "1      2313\n",
       "3      1150\n",
       "4       596\n",
       "6       444\n",
       "5       428\n",
       "7       263\n",
       "8       219\n",
       "15      116\n",
       "9       111\n",
       "10       55\n",
       "12       41\n",
       "11       39\n",
       "13       33\n",
       "14        4\n",
       "Name: Purpose, dtype: int64"
      ]
     },
     "execution_count": 15,
     "metadata": {},
     "output_type": "execute_result"
    }
   ],
   "source": [
    "loan_prime_df1['Purpose'].value_counts()"
   ]
  },
  {
   "cell_type": "markdown",
   "id": "7430d117",
   "metadata": {},
   "source": [
    "# Dropping Invalid Columns for Training"
   ]
  },
  {
   "cell_type": "code",
   "execution_count": 16,
   "id": "0d337910",
   "metadata": {},
   "outputs": [
    {
     "name": "stdout",
     "output_type": "stream",
     "text": [
      "<class 'pandas.core.frame.DataFrame'>\n",
      "Int64Index: 36423 entries, 2 to 99997\n",
      "Data columns (total 19 columns):\n",
      " #   Column                        Non-Null Count  Dtype  \n",
      "---  ------                        --------------  -----  \n",
      " 0   Loan ID                       36423 non-null  object \n",
      " 1   Customer ID                   36423 non-null  object \n",
      " 2   Loan Status                   36423 non-null  int64  \n",
      " 3   Current Loan Amount           36423 non-null  float64\n",
      " 4   Term                          36423 non-null  int64  \n",
      " 5   Credit Score                  36423 non-null  float64\n",
      " 6   Annual Income                 36423 non-null  float64\n",
      " 7   Years in current job          36423 non-null  int64  \n",
      " 8   Home Ownership                36423 non-null  int64  \n",
      " 9   Purpose                       36423 non-null  int64  \n",
      " 10  Monthly Debt                  36423 non-null  float64\n",
      " 11  Years of Credit History       36423 non-null  float64\n",
      " 12  Months since last delinquent  36423 non-null  float64\n",
      " 13  Number of Open Accounts       36423 non-null  float64\n",
      " 14  Number of Credit Problems     36423 non-null  float64\n",
      " 15  Current Credit Balance        36423 non-null  float64\n",
      " 16  Maximum Open Credit           36423 non-null  float64\n",
      " 17  Bankruptcies                  36423 non-null  float64\n",
      " 18  Tax Liens                     36423 non-null  float64\n",
      "dtypes: float64(12), int64(5), object(2)\n",
      "memory usage: 5.6+ MB\n"
     ]
    }
   ],
   "source": [
    "loan_prime_df1.info()"
   ]
  },
  {
   "cell_type": "code",
   "execution_count": 17,
   "id": "127d9ffc",
   "metadata": {},
   "outputs": [],
   "source": [
    "loan_prime_df1.drop('Loan ID', axis=1, inplace=True)"
   ]
  },
  {
   "cell_type": "code",
   "execution_count": 18,
   "id": "6f5de46d",
   "metadata": {},
   "outputs": [],
   "source": [
    "loan_prime_df1.drop('Customer ID', axis=1, inplace=True)"
   ]
  },
  {
   "cell_type": "code",
   "execution_count": 22,
   "id": "142a9b11",
   "metadata": {},
   "outputs": [
    {
     "name": "stdout",
     "output_type": "stream",
     "text": [
      "<class 'pandas.core.frame.DataFrame'>\n",
      "Int64Index: 36423 entries, 2 to 99997\n",
      "Data columns (total 17 columns):\n",
      " #   Column                        Non-Null Count  Dtype  \n",
      "---  ------                        --------------  -----  \n",
      " 0   Loan Status                   36423 non-null  int64  \n",
      " 1   Current Loan Amount           36423 non-null  float64\n",
      " 2   Term                          36423 non-null  int64  \n",
      " 3   Credit Score                  36423 non-null  float64\n",
      " 4   Annual Income                 36423 non-null  float64\n",
      " 5   Years in current job          36423 non-null  int64  \n",
      " 6   Home Ownership                36423 non-null  int64  \n",
      " 7   Purpose                       36423 non-null  int64  \n",
      " 8   Monthly Debt                  36423 non-null  float64\n",
      " 9   Years of Credit History       36423 non-null  float64\n",
      " 10  Months since last delinquent  36423 non-null  float64\n",
      " 11  Number of Open Accounts       36423 non-null  float64\n",
      " 12  Number of Credit Problems     36423 non-null  float64\n",
      " 13  Current Credit Balance        36423 non-null  float64\n",
      " 14  Maximum Open Credit           36423 non-null  float64\n",
      " 15  Bankruptcies                  36423 non-null  float64\n",
      " 16  Tax Liens                     36423 non-null  float64\n",
      "dtypes: float64(12), int64(5)\n",
      "memory usage: 5.0 MB\n"
     ]
    }
   ],
   "source": [
    "loan_prime_df1.info()"
   ]
  },
  {
   "cell_type": "markdown",
   "id": "da94972c",
   "metadata": {},
   "source": [
    "## Making Data Frames for different algorithms"
   ]
  },
  {
   "cell_type": "markdown",
   "id": "a7b865e3",
   "metadata": {},
   "source": [
    "### Exporting Clean Dataset"
   ]
  },
  {
   "cell_type": "code",
   "execution_count": 20,
   "id": "a4ffd2df",
   "metadata": {},
   "outputs": [],
   "source": [
    "loan_prime_df1.to_csv(r'E:\\LTU\\Data Science\\DS Project\\Data Frames for algotithms\\Cleaned Data.csv')"
   ]
  },
  {
   "cell_type": "markdown",
   "id": "c70b5ad9",
   "metadata": {},
   "source": [
    "### Random Forest - Data Frame"
   ]
  },
  {
   "cell_type": "code",
   "execution_count": 22,
   "id": "b3c17723",
   "metadata": {},
   "outputs": [],
   "source": [
    "loan_df_RF = pd.read_csv(r'E:\\LTU\\Data Science\\DS Project\\Data Frames for algotithms\\Cleaned Data.csv')"
   ]
  },
  {
   "cell_type": "markdown",
   "id": "021526ee",
   "metadata": {},
   "source": [
    "### Artificial Neural Network - Data Frame"
   ]
  },
  {
   "cell_type": "code",
   "execution_count": 40,
   "id": "d029695b",
   "metadata": {},
   "outputs": [],
   "source": [
    "loan_df_ANN = pd.read_csv(r'E:\\LTU\\Data Science\\DS Project\\Data Frames for algotithms\\Cleaned Data.csv')"
   ]
  },
  {
   "cell_type": "markdown",
   "id": "bd19100b",
   "metadata": {},
   "source": [
    "# Spliting Data Sets for Training "
   ]
  },
  {
   "cell_type": "code",
   "execution_count": 41,
   "id": "cf4b899e",
   "metadata": {},
   "outputs": [],
   "source": [
    "#RF"
   ]
  },
  {
   "cell_type": "code",
   "execution_count": 42,
   "id": "54ec771b",
   "metadata": {},
   "outputs": [],
   "source": [
    "X_rf = loan_df_RF.drop(columns=['Loan Status'],axis=1)\n",
    "y_rf = loan_df_RF['Loan Status']"
   ]
  },
  {
   "cell_type": "code",
   "execution_count": 45,
   "id": "4c866da8",
   "metadata": {},
   "outputs": [],
   "source": [
    "#ANN "
   ]
  },
  {
   "cell_type": "code",
   "execution_count": 46,
   "id": "39f9e967",
   "metadata": {},
   "outputs": [],
   "source": [
    "X_ann = loan_df_ANN.drop(columns=['Loan Status'],axis=1)\n",
    "y_ann = loan_df_ANN['Loan Status']"
   ]
  },
  {
   "cell_type": "markdown",
   "id": "f5ba9899",
   "metadata": {},
   "source": [
    "# Training & Testing"
   ]
  },
  {
   "cell_type": "markdown",
   "id": "0e1c42cd",
   "metadata": {},
   "source": [
    "## Random Forest - Algorithm "
   ]
  },
  {
   "cell_type": "code",
   "execution_count": 88,
   "id": "2916434d",
   "metadata": {},
   "outputs": [
    {
     "data": {
      "text/html": [
       "<div>\n",
       "<style scoped>\n",
       "    .dataframe tbody tr th:only-of-type {\n",
       "        vertical-align: middle;\n",
       "    }\n",
       "\n",
       "    .dataframe tbody tr th {\n",
       "        vertical-align: top;\n",
       "    }\n",
       "\n",
       "    .dataframe thead th {\n",
       "        text-align: right;\n",
       "    }\n",
       "</style>\n",
       "<table border=\"1\" class=\"dataframe\">\n",
       "  <thead>\n",
       "    <tr style=\"text-align: right;\">\n",
       "      <th></th>\n",
       "      <th>Loan Status</th>\n",
       "      <th>Current Loan Amount</th>\n",
       "      <th>Term</th>\n",
       "      <th>Credit Score</th>\n",
       "      <th>Annual Income</th>\n",
       "      <th>Years in current job</th>\n",
       "      <th>Home Ownership</th>\n",
       "      <th>Purpose</th>\n",
       "      <th>Monthly Debt</th>\n",
       "      <th>Years of Credit History</th>\n",
       "      <th>Months since last delinquent</th>\n",
       "      <th>Number of Open Accounts</th>\n",
       "      <th>Number of Credit Problems</th>\n",
       "      <th>Current Credit Balance</th>\n",
       "      <th>Maximum Open Credit</th>\n",
       "      <th>Bankruptcies</th>\n",
       "      <th>Tax Liens</th>\n",
       "    </tr>\n",
       "  </thead>\n",
       "  <tbody>\n",
       "    <tr>\n",
       "      <th>0</th>\n",
       "      <td>0</td>\n",
       "      <td>99999999</td>\n",
       "      <td>0</td>\n",
       "      <td>741</td>\n",
       "      <td>2231892</td>\n",
       "      <td>8</td>\n",
       "      <td>2</td>\n",
       "      <td>0</td>\n",
       "      <td>29200.53</td>\n",
       "      <td>14.9</td>\n",
       "      <td>29</td>\n",
       "      <td>18</td>\n",
       "      <td>1</td>\n",
       "      <td>297996</td>\n",
       "      <td>750090</td>\n",
       "      <td>0</td>\n",
       "      <td>0</td>\n",
       "    </tr>\n",
       "    <tr>\n",
       "      <th>1</th>\n",
       "      <td>0</td>\n",
       "      <td>217646</td>\n",
       "      <td>0</td>\n",
       "      <td>730</td>\n",
       "      <td>1184194</td>\n",
       "      <td>0</td>\n",
       "      <td>0</td>\n",
       "      <td>0</td>\n",
       "      <td>10855.08</td>\n",
       "      <td>19.6</td>\n",
       "      <td>10</td>\n",
       "      <td>13</td>\n",
       "      <td>1</td>\n",
       "      <td>122170</td>\n",
       "      <td>272052</td>\n",
       "      <td>1</td>\n",
       "      <td>0</td>\n",
       "    </tr>\n",
       "    <tr>\n",
       "      <th>2</th>\n",
       "      <td>0</td>\n",
       "      <td>548746</td>\n",
       "      <td>0</td>\n",
       "      <td>678</td>\n",
       "      <td>2559110</td>\n",
       "      <td>2</td>\n",
       "      <td>1</td>\n",
       "      <td>0</td>\n",
       "      <td>18660.28</td>\n",
       "      <td>22.6</td>\n",
       "      <td>33</td>\n",
       "      <td>4</td>\n",
       "      <td>0</td>\n",
       "      <td>437171</td>\n",
       "      <td>555038</td>\n",
       "      <td>0</td>\n",
       "      <td>0</td>\n",
       "    </tr>\n",
       "    <tr>\n",
       "      <th>3</th>\n",
       "      <td>0</td>\n",
       "      <td>99999999</td>\n",
       "      <td>0</td>\n",
       "      <td>728</td>\n",
       "      <td>714628</td>\n",
       "      <td>3</td>\n",
       "      <td>1</td>\n",
       "      <td>0</td>\n",
       "      <td>11851.06</td>\n",
       "      <td>16.0</td>\n",
       "      <td>76</td>\n",
       "      <td>16</td>\n",
       "      <td>0</td>\n",
       "      <td>203965</td>\n",
       "      <td>289784</td>\n",
       "      <td>0</td>\n",
       "      <td>0</td>\n",
       "    </tr>\n",
       "    <tr>\n",
       "      <th>4</th>\n",
       "      <td>0</td>\n",
       "      <td>99999999</td>\n",
       "      <td>0</td>\n",
       "      <td>740</td>\n",
       "      <td>776188</td>\n",
       "      <td>0</td>\n",
       "      <td>2</td>\n",
       "      <td>0</td>\n",
       "      <td>11578.22</td>\n",
       "      <td>8.5</td>\n",
       "      <td>25</td>\n",
       "      <td>6</td>\n",
       "      <td>0</td>\n",
       "      <td>134083</td>\n",
       "      <td>220220</td>\n",
       "      <td>0</td>\n",
       "      <td>0</td>\n",
       "    </tr>\n",
       "  </tbody>\n",
       "</table>\n",
       "</div>"
      ],
      "text/plain": [
       "   Loan Status  Current Loan Amount  Term  Credit Score  Annual Income  \\\n",
       "0            0             99999999     0           741        2231892   \n",
       "1            0               217646     0           730        1184194   \n",
       "2            0               548746     0           678        2559110   \n",
       "3            0             99999999     0           728         714628   \n",
       "4            0             99999999     0           740         776188   \n",
       "\n",
       "   Years in current job  Home Ownership  Purpose  Monthly Debt  \\\n",
       "0                     8               2        0      29200.53   \n",
       "1                     0               0        0      10855.08   \n",
       "2                     2               1        0      18660.28   \n",
       "3                     3               1        0      11851.06   \n",
       "4                     0               2        0      11578.22   \n",
       "\n",
       "   Years of Credit History  Months since last delinquent  \\\n",
       "0                     14.9                            29   \n",
       "1                     19.6                            10   \n",
       "2                     22.6                            33   \n",
       "3                     16.0                            76   \n",
       "4                      8.5                            25   \n",
       "\n",
       "   Number of Open Accounts  Number of Credit Problems  Current Credit Balance  \\\n",
       "0                       18                          1                  297996   \n",
       "1                       13                          1                  122170   \n",
       "2                        4                          0                  437171   \n",
       "3                       16                          0                  203965   \n",
       "4                        6                          0                  134083   \n",
       "\n",
       "   Maximum Open Credit  Bankruptcies  Tax Liens  \n",
       "0               750090             0          0  \n",
       "1               272052             1          0  \n",
       "2               555038             0          0  \n",
       "3               289784             0          0  \n",
       "4               220220             0          0  "
      ]
     },
     "execution_count": 88,
     "metadata": {},
     "output_type": "execute_result"
    }
   ],
   "source": [
    "loan_df_RF.head()"
   ]
  },
  {
   "cell_type": "code",
   "execution_count": 89,
   "id": "58cd7d11",
   "metadata": {},
   "outputs": [],
   "source": [
    "#Allocating dataframe "
   ]
  },
  {
   "cell_type": "code",
   "execution_count": 90,
   "id": "8adf1362",
   "metadata": {},
   "outputs": [],
   "source": [
    "X_rf = loan_df_RF.iloc[:, 0:7].values\n",
    "y_rf = loan_df_RF.iloc[:, 2].values"
   ]
  },
  {
   "cell_type": "code",
   "execution_count": 91,
   "id": "c8e49725",
   "metadata": {},
   "outputs": [],
   "source": [
    "#Test Split Dataframe for RF"
   ]
  },
  {
   "cell_type": "code",
   "execution_count": 92,
   "id": "4ba25cd5",
   "metadata": {},
   "outputs": [],
   "source": [
    "X_rf_train, X_rf_test, y_rf_train, y_rf_test = train_test_split(X_rf, y_rf, test_size=0.2, random_state=0)"
   ]
  },
  {
   "cell_type": "code",
   "execution_count": 93,
   "id": "6bb6d077",
   "metadata": {},
   "outputs": [],
   "source": [
    "#Importing Standard Scaler library "
   ]
  },
  {
   "cell_type": "code",
   "execution_count": 94,
   "id": "22f163f6",
   "metadata": {},
   "outputs": [],
   "source": [
    "from sklearn.preprocessing import StandardScaler\n",
    "\n",
    "SSL = StandardScaler()\n",
    "X_rf_train = SSL.fit_transform(X_rf_train)\n",
    "X_rf_test = SSL.transform(X_rf_test)"
   ]
  },
  {
   "cell_type": "code",
   "execution_count": 95,
   "id": "1eacd719",
   "metadata": {},
   "outputs": [],
   "source": [
    "#Importing Random Forest Regressor"
   ]
  },
  {
   "cell_type": "code",
   "execution_count": 96,
   "id": "5b40a639",
   "metadata": {},
   "outputs": [],
   "source": [
    "from sklearn.ensemble import RandomForestRegressor\n",
    "\n",
    "RFR = RandomForestRegressor(n_estimators=20, random_state=0)\n",
    "RFR.fit(X_rf_train, y_rf_train)\n",
    "y_pred = RFR.predict(X_rf_test)"
   ]
  },
  {
   "cell_type": "code",
   "execution_count": 97,
   "id": "4ea2d6ea",
   "metadata": {},
   "outputs": [],
   "source": [
    "#Checking Accuracy of Random Forest Model"
   ]
  },
  {
   "cell_type": "code",
   "execution_count": 98,
   "id": "450475e6",
   "metadata": {},
   "outputs": [
    {
     "name": "stdout",
     "output_type": "stream",
     "text": [
      "1.0\n",
      "\n",
      "Accuracy: 100%\n"
     ]
    }
   ],
   "source": [
    "AS=accuracy_score(y_rf_test, y_pred)\n",
    "print(AS)\n",
    "print (\"\\nAccuracy: \" + \"{:.0%}\".format(AS))"
   ]
  },
  {
   "cell_type": "code",
   "execution_count": 99,
   "id": "0ce22935",
   "metadata": {},
   "outputs": [],
   "source": [
    "#Confusion Matrix of RF Model"
   ]
  },
  {
   "cell_type": "code",
   "execution_count": 100,
   "id": "fd201047",
   "metadata": {},
   "outputs": [
    {
     "name": "stdout",
     "output_type": "stream",
     "text": [
      "[[5128    0]\n",
      " [   0 2157]]\n"
     ]
    }
   ],
   "source": [
    "cm = metrics.confusion_matrix(y_rf_test, y_pred)\n",
    "print(cm)"
   ]
  },
  {
   "cell_type": "code",
   "execution_count": 101,
   "id": "cc8ed268",
   "metadata": {},
   "outputs": [
    {
     "data": {
      "image/png": "[encoded data removed]",
      "text/plain": [
       "<Figure size 648x648 with 2 Axes>"
      ]
     },
     "metadata": {
      "needs_background": "light"
     },
     "output_type": "display_data"
    }
   ],
   "source": [
    "plt.figure(figsize=(9,9))\n",
    "sns.heatmap(cm, annot=True, fmt=\".3f\", linewidths=.5, square = True, cmap = 'Blues_r');\n",
    "plt.ylabel('Actual label');\n",
    "plt.xlabel('Predicted label');\n",
    "all_sample_title = 'Accuracy Score: {0}'.format(AS)\n",
    "plt.title(all_sample_title, size = 15);"
   ]
  },
  {
   "cell_type": "markdown",
   "id": "a96d6a77",
   "metadata": {},
   "source": [
    "# --------------------------------------------------------------------"
   ]
  },
  {
   "cell_type": "markdown",
   "id": "3f08b91c",
   "metadata": {},
   "source": [
    "# Artificial Neural Network - Algorithm"
   ]
  },
  {
   "cell_type": "code",
   "execution_count": 102,
   "id": "f08a8031",
   "metadata": {},
   "outputs": [
    {
     "name": "stdout",
     "output_type": "stream",
     "text": [
      "<class 'pandas.core.frame.DataFrame'>\n",
      "RangeIndex: 36423 entries, 0 to 36422\n",
      "Data columns (total 17 columns):\n",
      " #   Column                        Non-Null Count  Dtype  \n",
      "---  ------                        --------------  -----  \n",
      " 0   Loan Status                   36423 non-null  int64  \n",
      " 1   Current Loan Amount           36423 non-null  int64  \n",
      " 2   Term                          36423 non-null  int64  \n",
      " 3   Credit Score                  36423 non-null  int64  \n",
      " 4   Annual Income                 36423 non-null  int64  \n",
      " 5   Years in current job          36423 non-null  int64  \n",
      " 6   Home Ownership                36423 non-null  int64  \n",
      " 7   Purpose                       36423 non-null  int64  \n",
      " 8   Monthly Debt                  36423 non-null  float64\n",
      " 9   Years of Credit History       36423 non-null  float64\n",
      " 10  Months since last delinquent  36423 non-null  int64  \n",
      " 11  Number of Open Accounts       36423 non-null  int64  \n",
      " 12  Number of Credit Problems     36423 non-null  int64  \n",
      " 13  Current Credit Balance        36423 non-null  int64  \n",
      " 14  Maximum Open Credit           36423 non-null  int64  \n",
      " 15  Bankruptcies                  36423 non-null  int64  \n",
      " 16  Tax Liens                     36423 non-null  int64  \n",
      "dtypes: float64(2), int64(15)\n",
      "memory usage: 4.7 MB\n"
     ]
    }
   ],
   "source": [
    "loan_df_ANN.info()"
   ]
  },
  {
   "cell_type": "code",
   "execution_count": 103,
   "id": "53b0c09a",
   "metadata": {},
   "outputs": [],
   "source": [
    "#Spliting data frame for Train & Test"
   ]
  },
  {
   "cell_type": "code",
   "execution_count": 104,
   "id": "4addcc7d",
   "metadata": {},
   "outputs": [],
   "source": [
    "X_ann_train, X_ann_test, y_ann_train, y_ann_test = train_test_split(X_ann,y_ann,test_size=0.2,random_state=5)"
   ]
  },
  {
   "cell_type": "code",
   "execution_count": 106,
   "id": "41ec5e31",
   "metadata": {},
   "outputs": [],
   "source": [
    "#Create ANN Model using Keras "
   ]
  },
  {
   "cell_type": "code",
   "execution_count": 107,
   "id": "289ee698",
   "metadata": {},
   "outputs": [],
   "source": [
    "model = keras.Sequential([\n",
    "    keras.layers.Dense(16, input_shape=(16,), activation='relu'),\n",
    "    keras.layers.Dense(1, activation='sigmoid'),\n",
    "])\n",
    "\n",
    "\n",
    "model.compile(optimizer='adam',\n",
    "              loss='binary_crossentropy',\n",
    "              metrics=['accuracy'])"
   ]
  },
  {
   "cell_type": "code",
   "execution_count": null,
   "id": "94b31286",
   "metadata": {},
   "outputs": [],
   "source": [
    "#Run Neural Network Model "
   ]
  },
  {
   "cell_type": "code",
   "execution_count": 110,
   "id": "d53284b9",
   "metadata": {},
   "outputs": [
    {
     "name": "stdout",
     "output_type": "stream",
     "text": [
      "Epoch 1/100\n",
      "911/911 [==============================] - 1s 1ms/step - loss: 0.4736 - accuracy: 0.7950: 0s - loss: 0.4758 - ac\n",
      "Epoch 2/100\n",
      "911/911 [==============================] - 1s 1ms/step - loss: 0.4736 - accuracy: 0.7950: 0s - loss: 0.4736 - ac\n",
      "Epoch 3/100\n",
      "911/911 [==============================] - 1s 1ms/step - loss: 0.4735 - accuracy: 0.7950\n",
      "Epoch 4/100\n",
      "911/911 [==============================] - 1s 1ms/step - loss: 0.4736 - accuracy: 0.7950: 0s - loss: 0.4 - ETA: 0s - loss: 0.4735 - accuracy: \n",
      "Epoch 5/100\n",
      "911/911 [==============================] - 1s 1ms/step - loss: 0.4735 - accuracy: 0.7950: 0s - loss: 0.4739 - accuracy: \n",
      "Epoch 6/100\n",
      "911/911 [==============================] - 1s 1ms/step - loss: 0.4736 - accuracy: 0.7950\n",
      "Epoch 7/100\n",
      "911/911 [==============================] - 1s 1ms/step - loss: 0.4736 - accuracy: 0.7950\n",
      "Epoch 8/100\n",
      "911/911 [==============================] - 1s 1ms/step - loss: 0.4736 - accuracy: 0.7950: 0s - loss: 0.4743 - accura\n",
      "Epoch 9/100\n",
      "911/911 [==============================] - 1s 1ms/step - loss: 0.4736 - accuracy: 0.7950\n",
      "Epoch 10/100\n",
      "911/911 [==============================] - 1s 1ms/step - loss: 0.4736 - accuracy: 0.7950: 0s - loss: 0.4793 - accuracy: 0. - ETA: 0s - loss: 0.473 - ETA: 0s - loss: 0.4732 - accuracy:  - ETA: 0s - loss: 0.4741 - accuracy\n",
      "Epoch 11/100\n",
      "911/911 [==============================] - 1s 1ms/step - loss: 0.4735 - accuracy: 0.7950\n",
      "Epoch 12/100\n",
      "911/911 [==============================] - 1s 1ms/step - loss: 0.4735 - accuracy: 0.7950\n",
      "Epoch 13/100\n",
      "911/911 [==============================] - 1s 1ms/step - loss: 0.4736 - accuracy: 0.7950\n",
      "Epoch 14/100\n",
      "911/911 [==============================] - 1s 1ms/step - loss: 0.4736 - accuracy: 0.7950\n",
      "Epoch 15/100\n",
      "911/911 [==============================] - 1s 1ms/step - loss: 0.4735 - accuracy: 0.7950\n",
      "Epoch 16/100\n",
      "911/911 [==============================] - 1s 1ms/step - loss: 0.4736 - accuracy: 0.7950: 0s - loss: 0.4\n",
      "Epoch 17/100\n",
      "911/911 [==============================] - 1s 1ms/step - loss: 0.4736 - accuracy: 0.7950: 0s - loss: 0.4736 - accuracy: 0.79\n",
      "Epoch 18/100\n",
      "911/911 [==============================] - 1s 1ms/step - loss: 0.4736 - accuracy: 0.7950: 0s - loss: 0.4739  - ETA: 0s - loss: 0.4734 - accura\n",
      "Epoch 19/100\n",
      "911/911 [==============================] - 1s 1ms/step - loss: 0.4735 - accuracy: 0.7950\n",
      "Epoch 20/100\n",
      "911/911 [==============================] - 1s 1ms/step - loss: 0.4736 - accuracy: 0.7950\n",
      "Epoch 21/100\n",
      "911/911 [==============================] - 1s 1ms/step - loss: 0.4736 - accuracy: 0.7950\n",
      "Epoch 22/100\n",
      "911/911 [==============================] - 1s 1ms/step - loss: 0.4736 - accuracy: 0.7950: 0s - loss: 0.4734 - ac\n",
      "Epoch 23/100\n",
      "911/911 [==============================] - ETA: 0s - loss: 0.4727 - accuracy: 0.79 - 1s 1ms/step - loss: 0.4736 - accuracy: 0.7950\n",
      "Epoch 24/100\n",
      "911/911 [==============================] - 1s 1ms/step - loss: 0.4736 - accuracy: 0.7950: \n",
      "Epoch 25/100\n",
      "911/911 [==============================] - 1s 1ms/step - loss: 0.4736 - accuracy: 0.7950\n",
      "Epoch 26/100\n",
      "911/911 [==============================] - 1s 1ms/step - loss: 0.4736 - accuracy: 0.7950\n",
      "Epoch 27/100\n",
      "911/911 [==============================] - 1s 1ms/step - loss: 0.4736 - accuracy: 0.7950\n",
      "Epoch 28/100\n",
      "911/911 [==============================] - 1s 1ms/step - loss: 0.4736 - accuracy: 0.7950\n",
      "Epoch 29/100\n",
      "911/911 [==============================] - 1s 1ms/step - loss: 0.4736 - accuracy: 0.7950\n",
      "Epoch 30/100\n",
      "911/911 [==============================] - 1s 1ms/step - loss: 0.4736 - accuracy: 0.7950\n",
      "Epoch 31/100\n",
      "911/911 [==============================] - 1s 1ms/step - loss: 0.4736 - accuracy: 0.7950: 0s\n",
      "Epoch 32/100\n",
      "911/911 [==============================] - 1s 1ms/step - loss: 0.4736 - accuracy: 0.7950: 0s - loss: 0.476\n",
      "Epoch 33/100\n",
      "911/911 [==============================] - 1s 1ms/step - loss: 0.4736 - accuracy: 0.7950\n",
      "Epoch 34/100\n",
      "911/911 [==============================] - 1s 1ms/step - loss: 0.4736 - accuracy: 0.7950\n",
      "Epoch 35/100\n",
      "911/911 [==============================] - 1s 1ms/step - loss: 0.4736 - accuracy: 0.7950\n",
      "Epoch 36/100\n",
      "911/911 [==============================] - 1s 1ms/step - loss: 0.4736 - accuracy: 0.7950\n",
      "Epoch 37/100\n",
      "911/911 [==============================] - 1s 1ms/step - loss: 0.4736 - accuracy: 0.7950\n",
      "Epoch 38/100\n",
      "911/911 [==============================] - 1s 1ms/step - loss: 0.4736 - accuracy: 0.7950\n",
      "Epoch 39/100\n",
      "911/911 [==============================] - 1s 1ms/step - loss: 0.4736 - accuracy: 0.7950\n",
      "Epoch 40/100\n",
      "911/911 [==============================] - 1s 1ms/step - loss: 0.4736 - accuracy: 0.7950\n",
      "Epoch 41/100\n",
      "911/911 [==============================] - 1s 1ms/step - loss: 0.4736 - accuracy: 0.7950\n",
      "Epoch 42/100\n",
      "911/911 [==============================] - 1s 1ms/step - loss: 0.4736 - accuracy: 0.7950\n",
      "Epoch 43/100\n",
      "911/911 [==============================] - 1s 1ms/step - loss: 0.4736 - accuracy: 0.7950\n",
      "Epoch 44/100\n",
      "911/911 [==============================] - 1s 1ms/step - loss: 0.4736 - accuracy: 0.7950\n",
      "Epoch 45/100\n",
      "911/911 [==============================] - 1s 1ms/step - loss: 0.4736 - accuracy: 0.7950: 0s - loss: 0.467\n",
      "Epoch 46/100\n",
      "911/911 [==============================] - 1s 1ms/step - loss: 0.4736 - accuracy: 0.7950: 1s - loss: 0.4740 - accu - ETA: 0s -\n",
      "Epoch 47/100\n",
      "911/911 [==============================] - 1s 1ms/step - loss: 0.4736 - accuracy: 0.7950\n",
      "Epoch 48/100\n",
      "911/911 [==============================] - 1s 1ms/step - loss: 0.4736 - accuracy: 0.7950\n",
      "Epoch 49/100\n",
      "911/911 [==============================] - 1s 1ms/step - loss: 0.4736 - accuracy: 0.7950: 0s - loss: 0.4725 - accuracy\n",
      "Epoch 50/100\n",
      "911/911 [==============================] - 1s 1ms/step - loss: 0.4736 - accuracy: 0.7950: 0s - l\n",
      "Epoch 51/100\n",
      "911/911 [==============================] - 1s 1ms/step - loss: 0.4736 - accuracy: 0.7950\n",
      "Epoch 52/100\n",
      "911/911 [==============================] - 1s 1ms/step - loss: 0.4736 - accuracy: 0.7950\n",
      "Epoch 53/100\n",
      "911/911 [==============================] - 1s 1ms/step - loss: 0.4736 - accuracy: 0.7950: 0s - loss: 0.4730 - accuracy: \n",
      "Epoch 54/100\n",
      "911/911 [==============================] - 1s 1ms/step - loss: 0.4736 - accuracy: 0.7950\n",
      "Epoch 55/100\n",
      "911/911 [==============================] - 1s 1ms/step - loss: 0.4736 - accuracy: 0.7950: 0s - loss: - ETA: 0s - loss: 0.4732 - accuracy: 0.\n",
      "Epoch 56/100\n",
      "911/911 [==============================] - 1s 1ms/step - loss: 0.4736 - accuracy: 0.7950\n",
      "Epoch 57/100\n",
      "911/911 [==============================] - ETA: 0s - loss: 0.4736 - accuracy: 0.79 - 1s 1ms/step - loss: 0.4736 - accuracy: 0.7950\n",
      "Epoch 58/100\n",
      "911/911 [==============================] - 1s 1ms/step - loss: 0.4736 - accuracy: 0.7950\n",
      "Epoch 59/100\n",
      "911/911 [==============================] - 1s 1ms/step - loss: 0.4736 - accuracy: 0.7950\n",
      "Epoch 60/100\n",
      "911/911 [==============================] - 1s 1ms/step - loss: 0.4736 - accuracy: 0.7950: 0s - loss: 0.4768 - accuracy:  - ETA: 0s - loss: 0.4768 - ac\n",
      "Epoch 61/100\n",
      "911/911 [==============================] - 1s 1ms/step - loss: 0.4736 - accuracy: 0.7950: 0s - loss: 0.4723 - accuracy: 0.\n",
      "Epoch 62/100\n",
      "911/911 [==============================] - 1s 1ms/step - loss: 0.4736 - accuracy: 0.7950\n",
      "Epoch 63/100\n",
      "911/911 [==============================] - 1s 1ms/step - loss: 0.4736 - accuracy: 0.7950\n",
      "Epoch 64/100\n",
      "911/911 [==============================] - 1s 1ms/step - loss: 0.4736 - accuracy: 0.7950\n",
      "Epoch 65/100\n",
      "911/911 [==============================] - 1s 1ms/step - loss: 0.4736 - accuracy: 0.7950\n",
      "Epoch 66/100\n",
      "911/911 [==============================] - 1s 1ms/step - loss: 0.4736 - accuracy: 0.7950: 0s\n",
      "Epoch 67/100\n",
      "911/911 [==============================] - 1s 1ms/step - loss: 0.4736 - accuracy: 0.7950: 0s - loss: 0.4742 - accuracy: \n",
      "Epoch 68/100\n",
      "911/911 [==============================] - 1s 1ms/step - loss: 0.4736 - accuracy: 0.7950: 0s - los\n",
      "Epoch 69/100\n",
      "911/911 [==============================] - 1s 1ms/step - loss: 0.4736 - accuracy: 0.7950\n",
      "Epoch 70/100\n",
      "911/911 [==============================] - 1s 1ms/step - loss: 0.4735 - accuracy: 0.7950: 0s - loss: 0.4730 - accuracy: \n",
      "Epoch 71/100\n",
      "911/911 [==============================] - 1s 1ms/step - loss: 0.4736 - accuracy: 0.7950\n",
      "Epoch 72/100\n",
      "911/911 [==============================] - 1s 1ms/step - loss: 0.4736 - accuracy: 0.7950: 0s - loss: 0.4748 - \n",
      "Epoch 73/100\n",
      "911/911 [==============================] - 1s 1ms/step - loss: 0.4736 - accuracy: 0.7950\n",
      "Epoch 74/100\n",
      "911/911 [==============================] - 1s 1ms/step - loss: 0.4736 - accuracy: 0.7950\n",
      "Epoch 75/100\n",
      "911/911 [==============================] - 1s 1ms/step - loss: 0.4736 - accuracy: 0.7950\n",
      "Epoch 76/100\n",
      "911/911 [==============================] - 1s 1ms/step - loss: 0.4736 - accuracy: 0.7950\n",
      "Epoch 77/100\n",
      "911/911 [==============================] - 1s 1ms/step - loss: 0.4736 - accuracy: 0.7950\n",
      "Epoch 78/100\n",
      "911/911 [==============================] - 1s 1ms/step - loss: 0.4736 - accuracy: 0.7950\n",
      "Epoch 79/100\n",
      "911/911 [==============================] - 1s 1ms/step - loss: 0.4736 - accuracy: 0.7950\n",
      "Epoch 80/100\n",
      "911/911 [==============================] - 1s 1ms/step - loss: 0.4736 - accuracy: 0.7950\n",
      "Epoch 81/100\n",
      "911/911 [==============================] - 1s 1ms/step - loss: 0.4736 - accuracy: 0.7950\n",
      "Epoch 82/100\n",
      "911/911 [==============================] - 1s 1ms/step - loss: 0.4736 - accuracy: 0.7950\n",
      "Epoch 83/100\n",
      "911/911 [==============================] - 1s 1ms/step - loss: 0.4735 - accuracy: 0.7950\n",
      "Epoch 84/100\n",
      "911/911 [==============================] - 1s 1ms/step - loss: 0.4735 - accuracy: 0.7950\n",
      "Epoch 85/100\n",
      "911/911 [==============================] - 1s 1ms/step - loss: 0.4736 - accuracy: 0.7950\n",
      "Epoch 86/100\n",
      "911/911 [==============================] - 1s 1ms/step - loss: 0.4736 - accuracy: 0.7950\n",
      "Epoch 87/100\n",
      "911/911 [==============================] - 1s 1ms/step - loss: 0.4736 - accuracy: 0.7950\n",
      "Epoch 88/100\n",
      "911/911 [==============================] - 1s 1ms/step - loss: 0.4736 - accuracy: 0.7950\n",
      "Epoch 89/100\n",
      "911/911 [==============================] - 1s 1ms/step - loss: 0.4736 - accuracy: 0.7950\n",
      "Epoch 90/100\n",
      "911/911 [==============================] - 1s 1ms/step - loss: 0.4736 - accuracy: 0.7950\n",
      "Epoch 91/100\n",
      "911/911 [==============================] - 1s 1ms/step - loss: 0.4736 - accuracy: 0.7950\n",
      "Epoch 92/100\n",
      "911/911 [==============================] - 1s 1ms/step - loss: 0.4736 - accuracy: 0.7950\n",
      "Epoch 93/100\n",
      "911/911 [==============================] - 1s 1ms/step - loss: 0.4736 - accuracy: 0.7950\n",
      "Epoch 94/100\n",
      "911/911 [==============================] - 1s 1ms/step - loss: 0.4736 - accuracy: 0.7950\n",
      "Epoch 95/100\n",
      "911/911 [==============================] - 1s 1ms/step - loss: 0.4735 - accuracy: 0.7950\n",
      "Epoch 96/100\n",
      "911/911 [==============================] - 1s 1ms/step - loss: 0.4736 - accuracy: 0.7950\n",
      "Epoch 97/100\n",
      "911/911 [==============================] - 1s 1ms/step - loss: 0.4736 - accuracy: 0.7950\n",
      "Epoch 98/100\n",
      "911/911 [==============================] - 1s 1ms/step - loss: 0.4736 - accuracy: 0.7950\n",
      "Epoch 99/100\n",
      "911/911 [==============================] - 1s 1ms/step - loss: 0.4736 - accuracy: 0.7950: 0s - loss: 0.4768 \n",
      "Epoch 100/100\n",
      "911/911 [==============================] - 1s 1ms/step - loss: 0.4736 - accuracy: 0.7950\n"
     ]
    },
    {
     "data": {
      "text/plain": [
       "<keras.callbacks.History at 0x15597e7e8b0>"
      ]
     },
     "execution_count": 110,
     "metadata": {},
     "output_type": "execute_result"
    }
   ],
   "source": [
    "model.fit(X_ann_train, y_ann_train, epochs=100)"
   ]
  },
  {
   "cell_type": "code",
   "execution_count": 111,
   "id": "f9579a5f",
   "metadata": {},
   "outputs": [],
   "source": [
    "#Evaluating the Model"
   ]
  },
  {
   "cell_type": "code",
   "execution_count": 112,
   "id": "f035bdd6",
   "metadata": {},
   "outputs": [
    {
     "name": "stdout",
     "output_type": "stream",
     "text": [
      "228/228 [==============================] - 0s 829us/step - loss: 0.4712 - accuracy: 0.7974\n"
     ]
    },
    {
     "data": {
      "text/plain": [
       "[0.47123897075653076, 0.7973918914794922]"
      ]
     },
     "execution_count": 112,
     "metadata": {},
     "output_type": "execute_result"
    }
   ],
   "source": [
    "model.evaluate(X_ann_test, y_ann_test)"
   ]
  },
  {
   "cell_type": "code",
   "execution_count": 113,
   "id": "2161517b",
   "metadata": {},
   "outputs": [],
   "source": [
    "#Checking the Prediction"
   ]
  },
  {
   "cell_type": "code",
   "execution_count": 114,
   "id": "c23c20e5",
   "metadata": {},
   "outputs": [
    {
     "data": {
      "text/plain": [
       "array([[0.23527995],\n",
       "       [0.23527995],\n",
       "       [0.23527995],\n",
       "       [0.23527995],\n",
       "       [0.23527995]], dtype=float32)"
      ]
     },
     "execution_count": 114,
     "metadata": {},
     "output_type": "execute_result"
    }
   ],
   "source": [
    "yp = model.predict(X_ann_test)\n",
    "yp[:5]"
   ]
  },
  {
   "cell_type": "code",
   "execution_count": 115,
   "id": "192f89d3",
   "metadata": {},
   "outputs": [],
   "source": [
    "y_pred = []\n",
    "for element in yp:\n",
    "    if element > 0.5:\n",
    "        y_pred.append(1)\n",
    "    else:\n",
    "        y_pred.append(0)"
   ]
  },
  {
   "cell_type": "code",
   "execution_count": 116,
   "id": "f4172518",
   "metadata": {},
   "outputs": [
    {
     "data": {
      "text/plain": [
       "[0, 0, 0, 0, 0, 0, 0, 0, 0, 0]"
      ]
     },
     "execution_count": 116,
     "metadata": {},
     "output_type": "execute_result"
    }
   ],
   "source": [
    "y_pred[:10]"
   ]
  },
  {
   "cell_type": "code",
   "execution_count": 117,
   "id": "b54c6671",
   "metadata": {},
   "outputs": [
    {
     "data": {
      "text/plain": [
       "17858    0\n",
       "3904     0\n",
       "13127    1\n",
       "9601     0\n",
       "12972    0\n",
       "32933    0\n",
       "12228    0\n",
       "27271    0\n",
       "4551     0\n",
       "5593     0\n",
       "Name: Loan Status, dtype: int64"
      ]
     },
     "execution_count": 117,
     "metadata": {},
     "output_type": "execute_result"
    }
   ],
   "source": [
    "y_ann_test[:10]"
   ]
  },
  {
   "cell_type": "code",
   "execution_count": 118,
   "id": "dd8384c3",
   "metadata": {},
   "outputs": [],
   "source": [
    "#Print the Classification Report"
   ]
  },
  {
   "cell_type": "code",
   "execution_count": 120,
   "id": "5a7bf60a",
   "metadata": {},
   "outputs": [
    {
     "name": "stdout",
     "output_type": "stream",
     "text": [
      "              precision    recall  f1-score   support\n",
      "\n",
      "           0       0.80      1.00      0.89      5809\n",
      "           1       0.00      0.00      0.00      1476\n",
      "\n",
      "    accuracy                           0.80      7285\n",
      "   macro avg       0.40      0.50      0.44      7285\n",
      "weighted avg       0.64      0.80      0.71      7285\n",
      "\n"
     ]
    },
    {
     "name": "stderr",
     "output_type": "stream",
     "text": [
      "C:\\Users\\User-PC\\anaconda3\\lib\\site-packages\\sklearn\\metrics\\_classification.py:1245: UndefinedMetricWarning: Precision and F-score are ill-defined and being set to 0.0 in labels with no predicted samples. Use `zero_division` parameter to control this behavior.\n",
      "  _warn_prf(average, modifier, msg_start, len(result))\n",
      "C:\\Users\\User-PC\\anaconda3\\lib\\site-packages\\sklearn\\metrics\\_classification.py:1245: UndefinedMetricWarning: Precision and F-score are ill-defined and being set to 0.0 in labels with no predicted samples. Use `zero_division` parameter to control this behavior.\n",
      "  _warn_prf(average, modifier, msg_start, len(result))\n",
      "C:\\Users\\User-PC\\anaconda3\\lib\\site-packages\\sklearn\\metrics\\_classification.py:1245: UndefinedMetricWarning: Precision and F-score are ill-defined and being set to 0.0 in labels with no predicted samples. Use `zero_division` parameter to control this behavior.\n",
      "  _warn_prf(average, modifier, msg_start, len(result))\n"
     ]
    }
   ],
   "source": [
    "print(classification_report(y_ann_test,y_pred))"
   ]
  },
  {
   "cell_type": "code",
   "execution_count": 121,
   "id": "ef081597",
   "metadata": {},
   "outputs": [],
   "source": [
    "# Accuracy Result of ANN"
   ]
  },
  {
   "cell_type": "code",
   "execution_count": 122,
   "id": "27330b2c",
   "metadata": {},
   "outputs": [
    {
     "name": "stdout",
     "output_type": "stream",
     "text": [
      "0.797391901166781\n",
      "\n",
      "Accuracy: 80%\n"
     ]
    }
   ],
   "source": [
    "AS=accuracy_score(y_ann_test, y_pred)\n",
    "print(AS)\n",
    "print (\"\\nAccuracy: \" + \"{:.0%}\".format(AS))"
   ]
  },
  {
   "cell_type": "code",
   "execution_count": 123,
   "id": "c4470068",
   "metadata": {},
   "outputs": [],
   "source": [
    "#Confusion Matrix of ANN"
   ]
  },
  {
   "cell_type": "code",
   "execution_count": 124,
   "id": "7b989ba9",
   "metadata": {},
   "outputs": [
    {
     "name": "stdout",
     "output_type": "stream",
     "text": [
      "[[5809    0]\n",
      " [1476    0]]\n"
     ]
    }
   ],
   "source": [
    "cm = metrics.confusion_matrix(y_ann_test, y_pred)\n",
    "print(cm)"
   ]
  },
  {
   "cell_type": "code",
   "execution_count": 125,
   "id": "808d6f46",
   "metadata": {},
   "outputs": [
    {
     "data": {
      "image/png": "[encoded data removed]",
      "text/plain": [
       "<Figure size 648x648 with 2 Axes>"
      ]
     },
     "metadata": {
      "needs_background": "light"
     },
     "output_type": "display_data"
    }
   ],
   "source": [
    "plt.figure(figsize=(9,9))\n",
    "sns.heatmap(cm, annot=True, fmt=\".3f\", linewidths=.5, square = True, cmap = 'Blues_r');\n",
    "plt.ylabel('Actual label');\n",
    "plt.xlabel('Predicted label');\n",
    "all_sample_title = 'Accuracy Score: {0}'.format(AS)\n",
    "plt.title(all_sample_title, size = 15);"
   ]
  },
  {
   "cell_type": "markdown",
   "id": "57c8ec1d",
   "metadata": {},
   "source": [
    "# --------------------------------------------------------------------"
   ]
  }
 ],
 "metadata": {
  "kernelspec": {
   "display_name": "Python 3",
   "language": "python",
   "name": "python3"
  },
  "language_info": {
   "codemirror_mode": {
    "name": "ipython",
    "version": 3
   },
   "file_extension": ".py",
   "mimetype": "text/x-python",
   "name": "python",
   "nbconvert_exporter": "python",
   "pygments_lexer": "ipython3",
   "version": "3.8.8"
  }
 },
 "nbformat": 4,
 "nbformat_minor": 5
}
